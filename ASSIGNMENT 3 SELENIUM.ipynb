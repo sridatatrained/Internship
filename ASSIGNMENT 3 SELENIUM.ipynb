{
 "cells": [
  {
   "cell_type": "code",
   "execution_count": 73,
   "id": "94a98266",
   "metadata": {},
   "outputs": [],
   "source": [
    "import selenium\n",
    "import pandas as pd\n",
    "from selenium import webdriver\n",
    "import warnings\n",
    "warnings.filterwarnings('ignore')\n",
    "from selenium.webdriver.common.by import By\n",
    "from selenium.webdriver.common.keys import Keys\n",
    "from selenium.common.exceptions import NoSuchElementException\n",
    "import time"
   ]
  },
  {
   "cell_type": "code",
   "execution_count": 87,
   "id": "23913df9",
   "metadata": {},
   "outputs": [],
   "source": [
    "#Question 1"
   ]
  },
  {
   "cell_type": "code",
   "execution_count": 74,
   "id": "9d2a392f",
   "metadata": {},
   "outputs": [],
   "source": [
    "driver=webdriver.Chrome()\n",
    "driver.get('https://www.amazon.in/')\n",
    "driver.maximize_window()\n",
    "time.sleep(2)"
   ]
  },
  {
   "cell_type": "code",
   "execution_count": 75,
   "id": "f835ca90",
   "metadata": {},
   "outputs": [
    {
     "name": "stdout",
     "output_type": "stream",
     "text": [
      "Enter the product to search on Amazon: laptop\n"
     ]
    }
   ],
   "source": [
    "def scrape_amazon_product_details(search_query,num_pages=3):\n",
    "    search_box = driver.find_element(\"id\", \"twotabsearchtextbox\")\n",
    "    search_box.send_keys(search_query)\n",
    "    search_box.send_keys(Keys.RETURN)\n",
    "if __name__ == \"__main__\":\n",
    "    search_query = input(\"Enter the product to search on Amazon: \")\n",
    "    scrape_amazon_product_details(search_query)"
   ]
  },
  {
   "cell_type": "code",
   "execution_count": null,
   "id": "d23f17ab",
   "metadata": {},
   "outputs": [],
   "source": [
    "#Question 2"
   ]
  },
  {
   "cell_type": "code",
   "execution_count": 78,
   "id": "d3e49b5b",
   "metadata": {},
   "outputs": [
    {
     "data": {
      "text/plain": [
       "['Dell 15 Laptop, Intel Core i3-1115G4 Processor/8GB DDR4/512GB SSD/Intel UHD Graphics/15.6\" (39.6cm) FHD 120Hz Refresh, 250 nits/Mobile Connect/Win 11+MSO\\'21/15 Month McAfee/Black/Thin & Light-1.66kg',\n",
       " 'Lenovo ThinkPad E14 AMD Ryzen 5 7530U 14\" (35.56 cm) WUXGA IPS 300 Nits Thin and Light Laptop (16GB RAM/512GB SSD/Windows 11 Home/AMD Radeon Graphics/Backlit Keyboard/FPR/Black/1.41 kg), 21JRS00U00',\n",
       " 'JioBook 11 (2023) NB1112MM(BLU) (Mediatek 8788 Octa-core 2 GHz/ARM Mali G72 MP3 @800 MHz/29.5cms 60 Hz/Thin and Light Laptop/ 4 GB LPDDR4/ 64 GB eMMC/JioOS 4G LTE, Dual Band Wi-Fi/Blue/ 990 GMS)',\n",
       " 'HP Laptop 15s, 12th Gen Intel Core i3-1215U, 15.6-inch (39.6 cm), FHD, 8GB DDR4, 1TB SSD, Intel UHD Graphics, Thin & Light, Dual Speakers (Win 11, MSO 2021, Silver, 1.69 kg), fy5005TU',\n",
       " 'Samsung Galaxy Book2 (NP750) Intel 12th Gen core i5 39.6cm (15.6\") FHD Thin & Light Laptop (8 GB/512 GB/Windows 11/MS Office/Backlit Keyboard/Finger Print Reader/Silver/1.55Kg), NP750XED-KC1IN',\n",
       " 'ASUS [SmartChoice] Vivobook 15, Intel Celeron N4020, 15.6\" (39.62 cms) HD, Thin and Light Laptop (8GB/512GB SSD/Integrated Graphics/Windows 11/Office 2021/Fingerprint/Silver/1.8 kg), X515MA-BR024WS',\n",
       " 'Lenovo IdeaPad Slim 3 Intel Core i7 12th Gen 15.6 inch (39.62cm) FHD Thin & Light Laptop (16GB/512GB SSD/Windows 11/Office 2021/3months Game Pass/Arctic Grey/1.63Kg), 82RK011EIN',\n",
       " 'MSI Modern 15, Intel 11th Gen. i3-1115G4, 40CM FHD 60Hz Laptop (8GB/512GB NVMe SSD/Windows 11 Home/Intel UHD Graphics/Classic Black/1.7Kg), B11M-063IN',\n",
       " 'Lenovo Yoga Slim 6 Intel Evo Core i5 1240P 14\"(35.5cm) 2.2K 300Nit Laptop (16GB/512GB SSD/60Hz Refresh/Win 11/Office 2021/Backlit KB/1Yr Warranty/Alexa/3 Month Game Pass/Storm Grey/1.35Kg), 82WU0095IN',\n",
       " 'ASUS TUF Gaming F15, 15.6\"(39.62 cms) FHD 144Hz, Intel Core i7-11800H 11th Gen, 4GB NVIDIA GeForce RTX 3050 Ti, Gaming Laptop (16GB/1TB SSD/Win 11/MSO/90WHrs Battery/Black/2.30 Kg), FX506HE-HN385WS',\n",
       " 'Samsung Galaxy Book3 Core i7 13th Gen 1355U - (16 GB/512 GB SSD/Windows 11 Home) Galaxy Book3 Thin and Light Laptop  (15.6 Inch, Silver, 1.58 Kg, with MS Office)',\n",
       " 'MSI Gaming GF63 Thin, Intel Core i7-11800H, 40CM FHD 144Hz Gaming Laptop (8GB/512GB NVMe SSD/Windows 10 Home/Nvidia GTX1650 4GB GDDR6/ Black/1.86Kg), 11SC-852IN',\n",
       " 'HP 15s, AMD Ryzen 3 5300U, 15.6 inch(39.6cm) FHD Anti-Glare Laptop(8GB RAM/512 GB SSD/AMD Radeon Graphics/Win 11/MSO/Backlit Keyboard/Dual Speakers) 15s- eq2213AU',\n",
       " 'HP Laptop 15s, Intel Celeron, 15.6-inch (39.6 cm), HD, 8GB DDR4, 512GB SSD, Intel UHD Graphics, Thin & Light, Dual Speakers, BrightView Display (Win 11, MSO 2021, Silver, 1.65 kg), fq3071TU',\n",
       " 'HP Laptop 15s, AMD Ryzen 5 5500U, 15.6-inch (39.6 cm), FHD, 8GB DDR4, 512GB SSD, AMD Radeon Graphics, Thin & Light, Dual Speakers (Win 11, MSO 2019, Silver, 1.69 kg), eq2144AU',\n",
       " 'HP Laptop 15s, 12th Gen Intel Core i3-1215U, 15.6-inch (39.6 cm), FHD, 8GB DDR4, 512GB SSD, Intel UHD Graphics, Backlit KB, Thin & Light, Dual Speakers (Win 11, MSO 2021, Silver, 1.69 kg), fq5007TU',\n",
       " 'HP Chromebook X360 Intel Celeron N4120 14 inch(35.6 cm) Micro-Edge, Touchscreen, 2-in-1 Laptop (4GB RAM/64GB eMMC/Chrome OS/Intel UHD Graphics,1.49Kg), 14a-ca0506TU',\n",
       " 'ASUS Vivobook 16 (2023), Intel Core i9-13900H 13th Gen, 16\" (40.64 cm) FHD+, Thin & Light Laptop (16GB/512GB SSD/Intel Iris Xe/Win 11/Office 2021/Backlit KB/Fingerprint/Black/1.88 kg) X1605VA-MB947WS',\n",
       " 'Lenovo IdeaPad Slim 3 Ryzen 5 7520U 15.6\" (39.6cm) FHD Laptop (16GB/512GB SSD/Win 11/Office 2021/1 Year Warranty/Alexa Built-in/3 Month Game Pass/Arctic Grey/1.62Kg), 82XQ008VIN',\n",
       " 'Acer Aspire Lite AMD Ryzen 5 5500U Premium Thin and Light Laptop (16 GB RAM/1 TB SSD/Windows 11 Home) AL15-41, 39.62 cm (15.6\") Full HD Display, Metal Body, Steel Gray, 1.59 KG',\n",
       " 'ZEBRONICS NBC 3S Intel Core i3 12th Gen 1215U Laptop -(8 GB RAM 3200MHz/ 512 GB M.2 SATA SSD/Windows 11 Home) 15.6” 1080p,Dolby Atmos, Type C Port,Fingerprint Sensor, 38.5Wh Battery (Midnight Blue)',\n",
       " 'Acer Swift 5 SF514-55TA Intel EVO Thin and Light Laptop 14\"(35cm) Full HD IPS Touch Display 11th Gen Intel Core i5-1135G7 Processor 8GB LPDDR4X 512GB SSD FPR Backlit Keyboard Win 11 MSO 2021, Windows']"
      ]
     },
     "execution_count": 78,
     "metadata": {},
     "output_type": "execute_result"
    }
   ],
   "source": [
    "product=[]\n",
    "t=driver.find_elements(By.XPATH,'//h2[@class=\"a-size-mini a-spacing-none a-color-base s-line-clamp-2\"]')\n",
    "for i in t:\n",
    "                product.append(i.text)\n",
    "product\n",
    "\n",
    "                    \n",
    "\n"
   ]
  },
  {
   "cell_type": "code",
   "execution_count": 98,
   "id": "4e0ef07e",
   "metadata": {},
   "outputs": [
    {
     "data": {
      "text/plain": [
       "['36,990',\n",
       " '57,000',\n",
       " '14,499',\n",
       " '43,990',\n",
       " '52,990',\n",
       " '70,000',\n",
       " '70,990',\n",
       " '54,990',\n",
       " '',\n",
       " '',\n",
       " '49,990',\n",
       " '26,990',\n",
       " '62,990',\n",
       " '29,990',\n",
       " '59,790',\n",
       " '75,990',\n",
       " '89,490',\n",
       " '54,990',\n",
       " '32,999',\n",
       " '28,490',\n",
       " '39,800',\n",
       " '39,725',\n",
       " '28,999',\n",
       " '79,990',\n",
       " '43,990',\n",
       " '39,990',\n",
       " '33,990',\n",
       " '72,990',\n",
       " '77,490']"
      ]
     },
     "execution_count": 98,
     "metadata": {},
     "output_type": "execute_result"
    }
   ],
   "source": [
    "\n",
    "price=[]\n",
    "p=driver.find_elements(By.XPATH,'//span[@class=\"a-price-whole\"]')\n",
    "for i in p:\n",
    "           \n",
    "            price.append(i.text)\n",
    "        \n",
    "price"
   ]
  },
  {
   "cell_type": "code",
   "execution_count": 97,
   "id": "847fe6bf",
   "metadata": {},
   "outputs": [
    {
     "data": {
      "text/plain": [
       "['512',\n",
       " '56',\n",
       " '150',\n",
       " '2,022',\n",
       " '172',\n",
       " '162',\n",
       " '417',\n",
       " '381',\n",
       " '',\n",
       " '',\n",
       " '124',\n",
       " '1,219',\n",
       " '406',\n",
       " '68',\n",
       " '162',\n",
       " '125',\n",
       " '50',\n",
       " '189',\n",
       " '187',\n",
       " '136',\n",
       " '2,359',\n",
       " '2,022',\n",
       " '318',\n",
       " '89',\n",
       " '74',\n",
       " '208',\n",
       " '53',\n",
       " '20',\n",
       " '417']"
      ]
     },
     "execution_count": 97,
     "metadata": {},
     "output_type": "execute_result"
    }
   ],
   "source": [
    "no_of_ratings=[]\n",
    "r=driver.find_elements(By.XPATH,'//div[@class=\"a-row a-size-small\"]')\n",
    "for k in range(1):\n",
    "    for i in r:\n",
    "        \n",
    "            no_of_ratings.append(i.text)\n",
    "no_of_ratings"
   ]
  },
  {
   "cell_type": "code",
   "execution_count": 81,
   "id": "e661eed2",
   "metadata": {},
   "outputs": [
    {
     "data": {
      "text/plain": [
       "[<selenium.webdriver.remote.webelement.WebElement (session=\"dd9f826368d6940601c075c22ee7282b\", element=\"C6FB5D1EEF2D1AB9664D16C42A7ED031_element_3898\")>,\n",
       " <selenium.webdriver.remote.webelement.WebElement (session=\"dd9f826368d6940601c075c22ee7282b\", element=\"C6FB5D1EEF2D1AB9664D16C42A7ED031_element_3940\")>,\n",
       " <selenium.webdriver.remote.webelement.WebElement (session=\"dd9f826368d6940601c075c22ee7282b\", element=\"C6FB5D1EEF2D1AB9664D16C42A7ED031_element_3968\")>,\n",
       " <selenium.webdriver.remote.webelement.WebElement (session=\"dd9f826368d6940601c075c22ee7282b\", element=\"C6FB5D1EEF2D1AB9664D16C42A7ED031_element_4007\")>,\n",
       " <selenium.webdriver.remote.webelement.WebElement (session=\"dd9f826368d6940601c075c22ee7282b\", element=\"C6FB5D1EEF2D1AB9664D16C42A7ED031_element_4042\")>,\n",
       " <selenium.webdriver.remote.webelement.WebElement (session=\"dd9f826368d6940601c075c22ee7282b\", element=\"C6FB5D1EEF2D1AB9664D16C42A7ED031_element_4087\")>,\n",
       " <selenium.webdriver.remote.webelement.WebElement (session=\"dd9f826368d6940601c075c22ee7282b\", element=\"C6FB5D1EEF2D1AB9664D16C42A7ED031_element_4111\")>,\n",
       " <selenium.webdriver.remote.webelement.WebElement (session=\"dd9f826368d6940601c075c22ee7282b\", element=\"C6FB5D1EEF2D1AB9664D16C42A7ED031_element_4138\")>,\n",
       " <selenium.webdriver.remote.webelement.WebElement (session=\"dd9f826368d6940601c075c22ee7282b\", element=\"C6FB5D1EEF2D1AB9664D16C42A7ED031_element_4167\")>,\n",
       " <selenium.webdriver.remote.webelement.WebElement (session=\"dd9f826368d6940601c075c22ee7282b\", element=\"C6FB5D1EEF2D1AB9664D16C42A7ED031_element_4200\")>,\n",
       " <selenium.webdriver.remote.webelement.WebElement (session=\"dd9f826368d6940601c075c22ee7282b\", element=\"C6FB5D1EEF2D1AB9664D16C42A7ED031_element_4238\")>,\n",
       " <selenium.webdriver.remote.webelement.WebElement (session=\"dd9f826368d6940601c075c22ee7282b\", element=\"C6FB5D1EEF2D1AB9664D16C42A7ED031_element_4274\")>,\n",
       " <selenium.webdriver.remote.webelement.WebElement (session=\"dd9f826368d6940601c075c22ee7282b\", element=\"C6FB5D1EEF2D1AB9664D16C42A7ED031_element_4318\")>,\n",
       " <selenium.webdriver.remote.webelement.WebElement (session=\"dd9f826368d6940601c075c22ee7282b\", element=\"C6FB5D1EEF2D1AB9664D16C42A7ED031_element_4351\")>,\n",
       " <selenium.webdriver.remote.webelement.WebElement (session=\"dd9f826368d6940601c075c22ee7282b\", element=\"C6FB5D1EEF2D1AB9664D16C42A7ED031_element_4389\")>,\n",
       " <selenium.webdriver.remote.webelement.WebElement (session=\"dd9f826368d6940601c075c22ee7282b\", element=\"C6FB5D1EEF2D1AB9664D16C42A7ED031_element_4423\")>,\n",
       " <selenium.webdriver.remote.webelement.WebElement (session=\"dd9f826368d6940601c075c22ee7282b\", element=\"C6FB5D1EEF2D1AB9664D16C42A7ED031_element_4464\")>,\n",
       " <selenium.webdriver.remote.webelement.WebElement (session=\"dd9f826368d6940601c075c22ee7282b\", element=\"C6FB5D1EEF2D1AB9664D16C42A7ED031_element_4504\")>,\n",
       " <selenium.webdriver.remote.webelement.WebElement (session=\"dd9f826368d6940601c075c22ee7282b\", element=\"C6FB5D1EEF2D1AB9664D16C42A7ED031_element_4542\")>,\n",
       " <selenium.webdriver.remote.webelement.WebElement (session=\"dd9f826368d6940601c075c22ee7282b\", element=\"C6FB5D1EEF2D1AB9664D16C42A7ED031_element_4577\")>,\n",
       " <selenium.webdriver.remote.webelement.WebElement (session=\"dd9f826368d6940601c075c22ee7282b\", element=\"C6FB5D1EEF2D1AB9664D16C42A7ED031_element_4617\")>,\n",
       " <selenium.webdriver.remote.webelement.WebElement (session=\"dd9f826368d6940601c075c22ee7282b\", element=\"C6FB5D1EEF2D1AB9664D16C42A7ED031_element_4655\")>,\n",
       " <selenium.webdriver.remote.webelement.WebElement (session=\"dd9f826368d6940601c075c22ee7282b\", element=\"C6FB5D1EEF2D1AB9664D16C42A7ED031_element_4690\")>,\n",
       " <selenium.webdriver.remote.webelement.WebElement (session=\"dd9f826368d6940601c075c22ee7282b\", element=\"C6FB5D1EEF2D1AB9664D16C42A7ED031_element_4724\")>,\n",
       " <selenium.webdriver.remote.webelement.WebElement (session=\"dd9f826368d6940601c075c22ee7282b\", element=\"C6FB5D1EEF2D1AB9664D16C42A7ED031_element_4763\")>,\n",
       " <selenium.webdriver.remote.webelement.WebElement (session=\"dd9f826368d6940601c075c22ee7282b\", element=\"C6FB5D1EEF2D1AB9664D16C42A7ED031_element_4802\")>,\n",
       " <selenium.webdriver.remote.webelement.WebElement (session=\"dd9f826368d6940601c075c22ee7282b\", element=\"C6FB5D1EEF2D1AB9664D16C42A7ED031_element_4841\")>,\n",
       " <selenium.webdriver.remote.webelement.WebElement (session=\"dd9f826368d6940601c075c22ee7282b\", element=\"C6FB5D1EEF2D1AB9664D16C42A7ED031_element_4875\")>,\n",
       " <selenium.webdriver.remote.webelement.WebElement (session=\"dd9f826368d6940601c075c22ee7282b\", element=\"C6FB5D1EEF2D1AB9664D16C42A7ED031_element_4916\")>]"
      ]
     },
     "execution_count": 81,
     "metadata": {},
     "output_type": "execute_result"
    }
   ],
   "source": [
    "HREFF = []\n",
    "h=driver.find_elements(By.XPATH,'//a[@class=\"a-link-normal s-underline-text s-underline-link-text s-link-style a-text-normal\"]')\n",
    "for k in range(1):\n",
    "    for i in h:\n",
    "        if (i.text==[]):\n",
    "            HREFF.append(\" \")\n",
    "        else:\n",
    "            HREFF.append(i)\n",
    "HREFF"
   ]
  },
  {
   "cell_type": "code",
   "execution_count": 92,
   "id": "b585a373",
   "metadata": {},
   "outputs": [
    {
     "data": {
      "text/plain": [
       "['Tomorrow, 22 December',\n",
       " 'Tomorrow, 22 December',\n",
       " 'Tomorrow, 22 December',\n",
       " 'Tomorrow, 22 December',\n",
       " 'Tomorrow, 22 December',\n",
       " 'Tomorrow, 22 December',\n",
       " 'Monday, 25 December',\n",
       " 'Tomorrow, 22 December',\n",
       " 'Tomorrow, 22 December',\n",
       " 'Tomorrow, 22 December',\n",
       " 'Tomorrow, 22 December',\n",
       " 'Tomorrow, 22 December',\n",
       " 'Tomorrow, 22 December',\n",
       " 'Tomorrow, 22 December',\n",
       " 'Tomorrow, 22 December',\n",
       " 'Tomorrow, 22 December',\n",
       " 'Tomorrow, 22 December',\n",
       " 'Tomorrow, 22 December',\n",
       " 'Tomorrow, 22 December',\n",
       " 'Tomorrow, 22 December',\n",
       " 'Monday, 25 December',\n",
       " 'Tomorrow, 22 December']"
      ]
     },
     "execution_count": 92,
     "metadata": {},
     "output_type": "execute_result"
    }
   ],
   "source": [
    "Expected_Delivery = []\n",
    "x=driver.find_elements(By.XPATH,'//span[@class=\"a-color-base a-text-bold\"]')\n",
    "for k in range(1):\n",
    "    for i in x:\n",
    "        if (i.text==[]):\n",
    "            Expected_Delivery.append(\" \")\n",
    "        else:\n",
    "            Expected_Delivery.append(i.text)\n",
    "Expected_Delivery\n"
   ]
  },
  {
   "cell_type": "code",
   "execution_count": 99,
   "id": "21dac525",
   "metadata": {},
   "outputs": [
    {
     "name": "stdout",
     "output_type": "stream",
     "text": [
      "22 29 29 22\n"
     ]
    }
   ],
   "source": [
    "print(len(product),len(price),len(no_of_ratings),len(Expected_Delivery))"
   ]
  },
  {
   "cell_type": "code",
   "execution_count": 96,
   "id": "1b2629a8",
   "metadata": {},
   "outputs": [
    {
     "ename": "ValueError",
     "evalue": "All arrays must be of the same length",
     "output_type": "error",
     "traceback": [
      "\u001b[1;31m---------------------------------------------------------------------------\u001b[0m",
      "\u001b[1;31mValueError\u001b[0m                                Traceback (most recent call last)",
      "\u001b[1;32m~\\AppData\\Local\\Temp\\ipykernel_5276\\1932532138.py\u001b[0m in \u001b[0;36m<module>\u001b[1;34m\u001b[0m\n\u001b[1;32m----> 1\u001b[1;33m \u001b[0mdf\u001b[0m \u001b[1;33m=\u001b[0m \u001b[0mpd\u001b[0m\u001b[1;33m.\u001b[0m\u001b[0mDataFrame\u001b[0m\u001b[1;33m(\u001b[0m\u001b[1;33m{\u001b[0m\u001b[1;34m\"Product\"\u001b[0m\u001b[1;33m:\u001b[0m\u001b[0mproduct\u001b[0m\u001b[1;33m,\u001b[0m\u001b[1;34m\"PRICE\"\u001b[0m\u001b[1;33m:\u001b[0m\u001b[0mprice\u001b[0m\u001b[1;33m,\u001b[0m\u001b[1;34m\"RATINGS\"\u001b[0m\u001b[1;33m:\u001b[0m\u001b[0mno_of_ratings\u001b[0m\u001b[1;33m,\u001b[0m\u001b[1;34m\"EXPECTED DELIVERY\"\u001b[0m\u001b[1;33m:\u001b[0m\u001b[0mExpected_Delivery\u001b[0m\u001b[1;33m}\u001b[0m\u001b[1;33m)\u001b[0m\u001b[1;33m\u001b[0m\u001b[1;33m\u001b[0m\u001b[0m\n\u001b[0m\u001b[0;32m      2\u001b[0m \u001b[1;33m\u001b[0m\u001b[0m\n\u001b[0;32m      3\u001b[0m \u001b[1;33m\u001b[0m\u001b[0m\n\u001b[0;32m      4\u001b[0m \u001b[1;33m\u001b[0m\u001b[0m\n\u001b[0;32m      5\u001b[0m \u001b[1;33m\u001b[0m\u001b[0m\n",
      "\u001b[1;32mD:\\anaconda\\lib\\site-packages\\pandas\\core\\frame.py\u001b[0m in \u001b[0;36m__init__\u001b[1;34m(self, data, index, columns, dtype, copy)\u001b[0m\n\u001b[0;32m    634\u001b[0m         \u001b[1;32melif\u001b[0m \u001b[0misinstance\u001b[0m\u001b[1;33m(\u001b[0m\u001b[0mdata\u001b[0m\u001b[1;33m,\u001b[0m \u001b[0mdict\u001b[0m\u001b[1;33m)\u001b[0m\u001b[1;33m:\u001b[0m\u001b[1;33m\u001b[0m\u001b[1;33m\u001b[0m\u001b[0m\n\u001b[0;32m    635\u001b[0m             \u001b[1;31m# GH#38939 de facto copy defaults to False only in non-dict cases\u001b[0m\u001b[1;33m\u001b[0m\u001b[1;33m\u001b[0m\u001b[0m\n\u001b[1;32m--> 636\u001b[1;33m             \u001b[0mmgr\u001b[0m \u001b[1;33m=\u001b[0m \u001b[0mdict_to_mgr\u001b[0m\u001b[1;33m(\u001b[0m\u001b[0mdata\u001b[0m\u001b[1;33m,\u001b[0m \u001b[0mindex\u001b[0m\u001b[1;33m,\u001b[0m \u001b[0mcolumns\u001b[0m\u001b[1;33m,\u001b[0m \u001b[0mdtype\u001b[0m\u001b[1;33m=\u001b[0m\u001b[0mdtype\u001b[0m\u001b[1;33m,\u001b[0m \u001b[0mcopy\u001b[0m\u001b[1;33m=\u001b[0m\u001b[0mcopy\u001b[0m\u001b[1;33m,\u001b[0m \u001b[0mtyp\u001b[0m\u001b[1;33m=\u001b[0m\u001b[0mmanager\u001b[0m\u001b[1;33m)\u001b[0m\u001b[1;33m\u001b[0m\u001b[1;33m\u001b[0m\u001b[0m\n\u001b[0m\u001b[0;32m    637\u001b[0m         \u001b[1;32melif\u001b[0m \u001b[0misinstance\u001b[0m\u001b[1;33m(\u001b[0m\u001b[0mdata\u001b[0m\u001b[1;33m,\u001b[0m \u001b[0mma\u001b[0m\u001b[1;33m.\u001b[0m\u001b[0mMaskedArray\u001b[0m\u001b[1;33m)\u001b[0m\u001b[1;33m:\u001b[0m\u001b[1;33m\u001b[0m\u001b[1;33m\u001b[0m\u001b[0m\n\u001b[0;32m    638\u001b[0m             \u001b[1;32mimport\u001b[0m \u001b[0mnumpy\u001b[0m\u001b[1;33m.\u001b[0m\u001b[0mma\u001b[0m\u001b[1;33m.\u001b[0m\u001b[0mmrecords\u001b[0m \u001b[1;32mas\u001b[0m \u001b[0mmrecords\u001b[0m\u001b[1;33m\u001b[0m\u001b[1;33m\u001b[0m\u001b[0m\n",
      "\u001b[1;32mD:\\anaconda\\lib\\site-packages\\pandas\\core\\internals\\construction.py\u001b[0m in \u001b[0;36mdict_to_mgr\u001b[1;34m(data, index, columns, dtype, typ, copy)\u001b[0m\n\u001b[0;32m    500\u001b[0m         \u001b[1;31m# TODO: can we get rid of the dt64tz special case above?\u001b[0m\u001b[1;33m\u001b[0m\u001b[1;33m\u001b[0m\u001b[0m\n\u001b[0;32m    501\u001b[0m \u001b[1;33m\u001b[0m\u001b[0m\n\u001b[1;32m--> 502\u001b[1;33m     \u001b[1;32mreturn\u001b[0m \u001b[0marrays_to_mgr\u001b[0m\u001b[1;33m(\u001b[0m\u001b[0marrays\u001b[0m\u001b[1;33m,\u001b[0m \u001b[0mcolumns\u001b[0m\u001b[1;33m,\u001b[0m \u001b[0mindex\u001b[0m\u001b[1;33m,\u001b[0m \u001b[0mdtype\u001b[0m\u001b[1;33m=\u001b[0m\u001b[0mdtype\u001b[0m\u001b[1;33m,\u001b[0m \u001b[0mtyp\u001b[0m\u001b[1;33m=\u001b[0m\u001b[0mtyp\u001b[0m\u001b[1;33m,\u001b[0m \u001b[0mconsolidate\u001b[0m\u001b[1;33m=\u001b[0m\u001b[0mcopy\u001b[0m\u001b[1;33m)\u001b[0m\u001b[1;33m\u001b[0m\u001b[1;33m\u001b[0m\u001b[0m\n\u001b[0m\u001b[0;32m    503\u001b[0m \u001b[1;33m\u001b[0m\u001b[0m\n\u001b[0;32m    504\u001b[0m \u001b[1;33m\u001b[0m\u001b[0m\n",
      "\u001b[1;32mD:\\anaconda\\lib\\site-packages\\pandas\\core\\internals\\construction.py\u001b[0m in \u001b[0;36marrays_to_mgr\u001b[1;34m(arrays, columns, index, dtype, verify_integrity, typ, consolidate)\u001b[0m\n\u001b[0;32m    118\u001b[0m         \u001b[1;31m# figure out the index, if necessary\u001b[0m\u001b[1;33m\u001b[0m\u001b[1;33m\u001b[0m\u001b[0m\n\u001b[0;32m    119\u001b[0m         \u001b[1;32mif\u001b[0m \u001b[0mindex\u001b[0m \u001b[1;32mis\u001b[0m \u001b[1;32mNone\u001b[0m\u001b[1;33m:\u001b[0m\u001b[1;33m\u001b[0m\u001b[1;33m\u001b[0m\u001b[0m\n\u001b[1;32m--> 120\u001b[1;33m             \u001b[0mindex\u001b[0m \u001b[1;33m=\u001b[0m \u001b[0m_extract_index\u001b[0m\u001b[1;33m(\u001b[0m\u001b[0marrays\u001b[0m\u001b[1;33m)\u001b[0m\u001b[1;33m\u001b[0m\u001b[1;33m\u001b[0m\u001b[0m\n\u001b[0m\u001b[0;32m    121\u001b[0m         \u001b[1;32melse\u001b[0m\u001b[1;33m:\u001b[0m\u001b[1;33m\u001b[0m\u001b[1;33m\u001b[0m\u001b[0m\n\u001b[0;32m    122\u001b[0m             \u001b[0mindex\u001b[0m \u001b[1;33m=\u001b[0m \u001b[0mensure_index\u001b[0m\u001b[1;33m(\u001b[0m\u001b[0mindex\u001b[0m\u001b[1;33m)\u001b[0m\u001b[1;33m\u001b[0m\u001b[1;33m\u001b[0m\u001b[0m\n",
      "\u001b[1;32mD:\\anaconda\\lib\\site-packages\\pandas\\core\\internals\\construction.py\u001b[0m in \u001b[0;36m_extract_index\u001b[1;34m(data)\u001b[0m\n\u001b[0;32m    672\u001b[0m             \u001b[0mlengths\u001b[0m \u001b[1;33m=\u001b[0m \u001b[0mlist\u001b[0m\u001b[1;33m(\u001b[0m\u001b[0mset\u001b[0m\u001b[1;33m(\u001b[0m\u001b[0mraw_lengths\u001b[0m\u001b[1;33m)\u001b[0m\u001b[1;33m)\u001b[0m\u001b[1;33m\u001b[0m\u001b[1;33m\u001b[0m\u001b[0m\n\u001b[0;32m    673\u001b[0m             \u001b[1;32mif\u001b[0m \u001b[0mlen\u001b[0m\u001b[1;33m(\u001b[0m\u001b[0mlengths\u001b[0m\u001b[1;33m)\u001b[0m \u001b[1;33m>\u001b[0m \u001b[1;36m1\u001b[0m\u001b[1;33m:\u001b[0m\u001b[1;33m\u001b[0m\u001b[1;33m\u001b[0m\u001b[0m\n\u001b[1;32m--> 674\u001b[1;33m                 \u001b[1;32mraise\u001b[0m \u001b[0mValueError\u001b[0m\u001b[1;33m(\u001b[0m\u001b[1;34m\"All arrays must be of the same length\"\u001b[0m\u001b[1;33m)\u001b[0m\u001b[1;33m\u001b[0m\u001b[1;33m\u001b[0m\u001b[0m\n\u001b[0m\u001b[0;32m    675\u001b[0m \u001b[1;33m\u001b[0m\u001b[0m\n\u001b[0;32m    676\u001b[0m             \u001b[1;32mif\u001b[0m \u001b[0mhave_dicts\u001b[0m\u001b[1;33m:\u001b[0m\u001b[1;33m\u001b[0m\u001b[1;33m\u001b[0m\u001b[0m\n",
      "\u001b[1;31mValueError\u001b[0m: All arrays must be of the same length"
     ]
    }
   ],
   "source": [
    "df = pd.DataFrame({\"Product\":product,\"PRICE\":price,\"RATINGS\":no_of_ratings,\"EXPECTED DELIVERY\":Expected_Delivery})\n",
    "\n",
    "\n",
    "\n",
    "\n",
    "#df.to_csv(f\"{search_query}_amazon_products.csv\", index=False)\n",
    "df.head(50)\n"
   ]
  },
  {
   "cell_type": "code",
   "execution_count": 100,
   "id": "981dabe5",
   "metadata": {},
   "outputs": [],
   "source": [
    "#Question 3"
   ]
  },
  {
   "cell_type": "code",
   "execution_count": 101,
   "id": "1a731cb3",
   "metadata": {},
   "outputs": [],
   "source": [
    "from selenium import webdriver\n",
    "import time\n",
    "import os\n",
    "from selenium.webdriver.common.keys import Keys\n",
    "from selenium.webdriver.common.by import By\n",
    "from selenium.webdriver.support.ui import WebDriverWait\n",
    "from selenium.webdriver.support import expected_conditions as EC"
   ]
  },
  {
   "cell_type": "code",
   "execution_count": 109,
   "id": "b08e8e92",
   "metadata": {},
   "outputs": [],
   "source": [
    "def fetch_images(keyword, num_images=10):\n",
    "    search_url = \"https://www.google.com/imghp\"\n",
    "    driver = webdriver.Chrome()\n",
    "    driver.get(search_url)\n",
    "    search_bar = driver.find_element(By.NAME, \"q\")\n",
    "    search_bar.send_keys(keyword)\n",
    "    search_bar.send_keys(Keys.RETURN)\n",
    "    try:\n",
    "        element_present = EC.presence_of_element_located((By.CLASS_NAME, \"rg_i\"))\n",
    "        WebDriverWait(driver, 10).until(element_present)\n",
    "    except Exception as e:\n",
    "        print(f\"Error: {e}\")\n",
    "    for _ in range(3):  \n",
    "           time.sleep(2)\n",
    "    image_elements = driver.find_elements(By.CLASS_NAME, 'rg_i')   \n",
    "    image_urls = [element.get_attribute('src') for element in image_elements]\n",
    "    keywords = ['fruits', 'cars', 'Machine Learning', 'Guitar', 'Cakes']\n",
    "    return image_urls\n"
   ]
  },
  {
   "cell_type": "code",
   "execution_count": 110,
   "id": "04bda2f3",
   "metadata": {},
   "outputs": [
    {
     "name": "stderr",
     "output_type": "stream",
     "text": [
      "IOPub data rate exceeded.\n",
      "The notebook server will temporarily stop sending output\n",
      "to the client in order to avoid crashing it.\n",
      "To change this limit, set the config variable\n",
      "`--NotebookApp.iopub_data_rate_limit`.\n",
      "\n",
      "Current values:\n",
      "NotebookApp.iopub_data_rate_limit=1000000.0 (bytes/sec)\n",
      "NotebookApp.rate_limit_window=3.0 (secs)\n",
      "\n"
     ]
    }
   ],
   "source": [
    "for keyword in keywords:\n",
    "    image_urls = fetch_images(keyword, num_images=10)\n",
    "    print(f\"\\nImages for '{keyword}':\")\n",
    "    for url in enumerate(image_urls):\n",
    "        print(f\"{url}\")\n",
    "        \n",
    "        print(image_urls)"
   ]
  },
  {
   "cell_type": "code",
   "execution_count": null,
   "id": "117cb0ff",
   "metadata": {},
   "outputs": [],
   "source": [
    "#Question 4"
   ]
  },
  {
   "cell_type": "code",
   "execution_count": 121,
   "id": "8649dc71",
   "metadata": {},
   "outputs": [],
   "source": [
    "driver=webdriver.Chrome()\n",
    "driver.get('https://www.flipkart.com/')\n",
    "driver.maximize_window()\n",
    "l=driver.find_element(By.CLASS_NAME,\"_30XB9F\").click()"
   ]
  },
  {
   "cell_type": "code",
   "execution_count": 122,
   "id": "221f0bf1",
   "metadata": {},
   "outputs": [
    {
     "name": "stdout",
     "output_type": "stream",
     "text": [
      "Enter the product to search on Flipkart: oneplus nord\n"
     ]
    }
   ],
   "source": [
    "def scrape_flipkart_product_details(search_query1):\n",
    "    search_box1 = driver.find_element(By.CLASS_NAME,\"Pke_EE\")\n",
    "    search_box1.send_keys(search_query)\n",
    "    search_box1.send_keys(Keys.RETURN)\n",
    "if __name__ == \"__main__\":\n",
    "    search_query1 = input(\"Enter the product to search on Flipkart: \")\n",
    "    scrape_flipkart_product_details(search_query1)"
   ]
  },
  {
   "cell_type": "code",
   "execution_count": 136,
   "id": "b75b197d",
   "metadata": {},
   "outputs": [],
   "source": [
    "Brand_Name=[]\n",
    "Storage_RAM_ROM=[]\n",
    "P_F_Camera=[]\n",
    "Battery=[]\n",
    "Price=[]\n"
   ]
  },
  {
   "cell_type": "code",
   "execution_count": 147,
   "id": "8abd07c2",
   "metadata": {},
   "outputs": [
    {
     "name": "stdout",
     "output_type": "stream",
     "text": [
      "['OnePlus Nord CE 2 Lite 5G (Blue Tide, 128 GB)', 'OnePlus Nord CE 2 Lite 5G (Black Dusk, 128 GB)', 'OnePlus Nord CE 3 Lite 5G (Chromatic Gray, 256 GB)', 'OnePlus Nord CE 3 Lite 5G (Chromatic Gray, 128 GB)', 'OnePlus Nord CE 3 Lite 5G (Chromatic Gray, 128 GB)', 'OnePlus Nord CE 3 Lite 5G (Pastel Lime, 256 GB)', 'OnePlus Nord CE 3 Lite 5G (Pastel Lime, 128 GB)', 'OnePlus Nord CE 3 Lite 5G (Pastel lime, 256 GB)', 'OnePlus Nord CE3 5G (Grey Shimmer, 256 GB)', 'OnePlus Nord CE3 5G (Aqua Surge, 256 GB)', 'OnePlus Nord CE3 5G (Grey Shimmer, 128 GB)', 'OnePlus Nord CE3 5G (Aqua Surge, 128 GB)', 'OnePlus Nord CE 3 Lite 5G (Chromatic Gray, 256 GB)', 'OnePlus Nord CE 3 Lite 5G (Pastel Lime, 256 GB)', 'OnePlus Nord 3 5G (Tempest Gray, 128 GB)', 'OnePlus Nord CE 3 Lite 5G (Chromatic Gray, 128 GB)', 'OnePlus Nord 3 5G (Misty Green, 128 GB)', 'OnePlus Nord 3 5G (Tempest Gray, 256 GB)', 'OnePlus Nord CE 3 Lite 5G (Chromatic Gray, 256 GB)', 'OnePlus Nord 3 5G (Misty Green, 256 GB)', 'OnePlus Nord CE 3 Lite 5G (Pastel Lime, 128 GB)', 'OnePlus Nord CE 2 5G (Gray Mirror, 128 GB)', 'OnePlus Nord CE 5G (Blue Void, 256 GB)', 'OnePlus N20 SE (BLUE OASIS, 64 GB)']\n"
     ]
    }
   ],
   "source": [
    "Brand_Name=[]\n",
    "BName=driver.find_elements(By.XPATH,\"//div[@class='_4rR01T']\")\n",
    "for i in BName:\n",
    "    if i.text is None :\n",
    "        Brand_Name.append(\"--\") \n",
    "    else:\n",
    "        Brand_Name.append(i.text)\n",
    "print(Brand_Name)"
   ]
  },
  {
   "cell_type": "code",
   "execution_count": 138,
   "id": "0cd7ae10",
   "metadata": {},
   "outputs": [
    {
     "name": "stdout",
     "output_type": "stream",
     "text": [
      "['6 GB RAM | 128 GB ROM', '6 GB RAM | 128 GB ROM', '8 GB RAM | 256 GB ROM', '8 GB RAM | 128 GB ROM', '8 GB RAM | 128 GB ROM', '8 GB RAM | 256 GB ROM', '8 GB RAM | 128 GB ROM', '8 GB RAM | 256 GB ROM', '12 GB RAM | 256 GB ROM', '12 GB RAM | 256 GB ROM', '8 GB RAM | 128 GB ROM', '8 GB RAM | 128 GB ROM', '8 GB RAM | 256 GB ROM', '8 GB RAM | 256 GB ROM', '8 GB RAM | 128 GB ROM', '8 GB RAM | 128 GB ROM', '8 GB RAM | 128 GB ROM', '16 GB RAM | 256 GB ROM', '8 GB RAM | 256 GB ROM', '16 GB RAM | 256 GB ROM', '8 GB RAM | 128 GB ROM', '6 GB RAM | 128 GB ROM', '12 GB RAM | 256 GB ROM', '4 GB RAM | 64 GB ROM']\n"
     ]
    }
   ],
   "source": [
    "ram=driver.find_elements(By.XPATH,\"//ul[@class='_1xgFaf']//li[1]\")\n",
    "for i in ram:\n",
    "    if i.text is None :\n",
    "        Storage_RAM_ROM.append(\"--\") \n",
    "    else:\n",
    "        Storage_RAM_ROM.append(i.text)\n",
    "print(Storage_RAM_ROM)"
   ]
  },
  {
   "cell_type": "code",
   "execution_count": 186,
   "id": "b3cba592",
   "metadata": {},
   "outputs": [
    {
     "data": {
      "text/plain": [
       "[['6 GB RAM ', ' 128 GB ROM'],\n",
       " ['6 GB RAM ', ' 128 GB ROM'],\n",
       " ['8 GB RAM ', ' 256 GB ROM'],\n",
       " ['8 GB RAM ', ' 128 GB ROM'],\n",
       " ['8 GB RAM ', ' 128 GB ROM'],\n",
       " ['8 GB RAM ', ' 256 GB ROM'],\n",
       " ['8 GB RAM ', ' 128 GB ROM'],\n",
       " ['8 GB RAM ', ' 256 GB ROM'],\n",
       " ['12 GB RAM ', ' 256 GB ROM'],\n",
       " ['12 GB RAM ', ' 256 GB ROM'],\n",
       " ['8 GB RAM ', ' 128 GB ROM'],\n",
       " ['8 GB RAM ', ' 128 GB ROM'],\n",
       " ['8 GB RAM ', ' 256 GB ROM'],\n",
       " ['8 GB RAM ', ' 256 GB ROM'],\n",
       " ['8 GB RAM ', ' 128 GB ROM'],\n",
       " ['8 GB RAM ', ' 128 GB ROM'],\n",
       " ['8 GB RAM ', ' 128 GB ROM'],\n",
       " ['16 GB RAM ', ' 256 GB ROM'],\n",
       " ['8 GB RAM ', ' 256 GB ROM'],\n",
       " ['16 GB RAM ', ' 256 GB ROM'],\n",
       " ['8 GB RAM ', ' 128 GB ROM'],\n",
       " ['6 GB RAM ', ' 128 GB ROM'],\n",
       " ['12 GB RAM ', ' 256 GB ROM'],\n",
       " ['4 GB RAM ', ' 64 GB ROM']]"
      ]
     },
     "execution_count": 186,
     "metadata": {},
     "output_type": "execute_result"
    }
   ],
   "source": [
    "AM1=[r.split(\"|\")for r in Storage_RAM_ROM]\n",
    "AM1\n"
   ]
  },
  {
   "cell_type": "code",
   "execution_count": 139,
   "id": "0935fdc8",
   "metadata": {},
   "outputs": [
    {
     "name": "stdout",
     "output_type": "stream",
     "text": [
      "['64MP Rear Camera | 16MP Front Camera', '64MP Rear Camera | 16MP Front Camera', '108MP Rear Camera', '108MP Rear Camera', '108MP Rear Camera', '108MP Rear Camera', '108MP Rear Camera', '108MP Rear Camera', '50MP Rear Camera', '50MP Rear Camera', '50MP Rear Camera', '50MP Rear Camera', '108MP Rear Camera', '108MP Rear Camera', '50MP Rear Camera', '108MP Rear Camera', '50MP Rear Camera', '50MP Rear Camera', '108MP Rear Camera', '50MP Rear Camera', '108MP Rear Camera', '50MP Rear Camera', '64MP Rear Camera', '50MP Rear Camera']\n"
     ]
    }
   ],
   "source": [
    "PC=driver.find_elements(By.XPATH,\"//ul[@class='_1xgFaf']//li[3]\")\n",
    "for i in PC:\n",
    "    if i.text is None :\n",
    "        P_F_Camera.append(\"--\") \n",
    "    else:\n",
    "        P_F_Camera.append(i.text)\n",
    "print(P_F_Camera)"
   ]
  },
  {
   "cell_type": "code",
   "execution_count": 144,
   "id": "d5bc0700",
   "metadata": {},
   "outputs": [
    {
     "name": "stdout",
     "output_type": "stream",
     "text": [
      "['16.74 cm (6.59 inch) Display', '16.74 cm (6.59 inch) Display', '17.07 cm (6.72 inch) Display', '17.07 cm (6.72 inch) Display', '17.07 cm (6.72 inch) Display', '17.07 cm (6.72 inch) Display', '17.07 cm (6.72 inch) Display', '17.07 cm (6.72 inch) Display', '17.02 cm (6.7 inch) Display', '17.02 cm (6.7 inch) Display', '17.02 cm (6.7 inch) Display', '17.02 cm (6.7 inch) Display', '17.07 cm (6.72 inch) Display', '17.07 cm (6.72 inch) Display', '17.12 cm (6.74 inch) Display', '17.07 cm (6.72 inch) Display', '17.12 cm (6.74 inch) Display', '17.12 cm (6.74 inch) Display', '17.07 cm (6.72 inch) Display', '17.12 cm (6.74 inch) Display', '17.07 cm (6.72 inch) Display', '16.33 cm (6.43 inch) Display', '16.33 cm (6.43 inch) Display', '16.66 cm (6.56 inch) Display']\n"
     ]
    }
   ],
   "source": [
    "Display_size_Resolution=[]\n",
    "DS=driver.find_elements(By.XPATH,\"//ul[@class='_1xgFaf']//li[2]\")\n",
    "for i in DS:\n",
    "    if i.text is None :\n",
    "        Display_size_Resolution.append(\"--\") \n",
    "    else:\n",
    "        Display_size_Resolution.append(i.text)\n",
    "print(Display_size_Resolution)"
   ]
  },
  {
   "cell_type": "code",
   "execution_count": 141,
   "id": "76623218",
   "metadata": {},
   "outputs": [
    {
     "name": "stdout",
     "output_type": "stream",
     "text": [
      "['5000 mAh Battery', '5000 mAh Battery', '5000 mAh Battery', '5000 mAh Battery', '5000 mAh Battery', '5000 mAh Battery', '5000 mAh Battery', '5000 mAh Battery', '5000 mAh Battery', '5000 mAh Battery', '5000 mAh Battery', '5000 mAh Battery', '5000 mAh Battery', '5000 mAh Battery', '5000 mAh Battery', '5000 mAh Battery', '5000 mAh Battery', '5000 mAh Battery', '5000 mAh Battery', '5000 mAh Battery', '5000 mAh Battery', '4500 mAh Battery', '4500 mAh Battery', '5000 mAh Battery']\n"
     ]
    }
   ],
   "source": [
    "B=driver.find_elements(By.XPATH,\"//ul[@class='_1xgFaf']//li[4]\")\n",
    "for i in B:\n",
    "    if i.text is None :\n",
    "        Battery.append(\"--\") \n",
    "    else:\n",
    "        Battery.append(i.text)\n",
    "print(Battery)"
   ]
  },
  {
   "cell_type": "code",
   "execution_count": 152,
   "id": "6dd7f2c6",
   "metadata": {},
   "outputs": [
    {
     "name": "stdout",
     "output_type": "stream",
     "text": [
      "['₹17,035', '₹17,023', '₹21,794', '₹19,440', '₹19,500', '₹21,492', '₹19,636', '₹21,841', '₹28,586', '₹28,235', '₹24,943', '₹24,925', '₹21,932', '₹21,876', '₹30,769', '₹19,920', '₹30,385', '₹36,845', '₹21,999', '₹35,700', '₹23,990', '₹27,990', '₹14,980', 'Price: Not Available']\n"
     ]
    }
   ],
   "source": [
    "Price=[]\n",
    "price=driver.find_elements(By.XPATH,\"//div[@class='_30jeq3 _1_WHN1']\")+driver.find_elements(By.XPATH,\"//div[@class='_3utEwz']\")\n",
    "for i in price:\n",
    "   \n",
    "        Price.append(i.text)\n",
    "print(Price)"
   ]
  },
  {
   "cell_type": "code",
   "execution_count": 153,
   "id": "478ba28c",
   "metadata": {},
   "outputs": [
    {
     "name": "stdout",
     "output_type": "stream",
     "text": [
      "24 24 24 24 24\n"
     ]
    }
   ],
   "source": [
    "print(len(price),len(Battery),len(Display_size_Resolution),len(Storage_RAM_ROM),len(Brand_Name))"
   ]
  },
  {
   "cell_type": "code",
   "execution_count": 192,
   "id": "75adf1bc",
   "metadata": {},
   "outputs": [
    {
     "data": {
      "text/html": [
       "<div>\n",
       "<style scoped>\n",
       "    .dataframe tbody tr th:only-of-type {\n",
       "        vertical-align: middle;\n",
       "    }\n",
       "\n",
       "    .dataframe tbody tr th {\n",
       "        vertical-align: top;\n",
       "    }\n",
       "\n",
       "    .dataframe thead th {\n",
       "        text-align: right;\n",
       "    }\n",
       "</style>\n",
       "<table border=\"1\" class=\"dataframe\">\n",
       "  <thead>\n",
       "    <tr style=\"text-align: right;\">\n",
       "      <th></th>\n",
       "      <th>BRANDNAME</th>\n",
       "      <th>PRICE</th>\n",
       "      <th>BATTERY</th>\n",
       "      <th>DISPLAY</th>\n",
       "      <th>STORAGE</th>\n",
       "      <th>CAMERA</th>\n",
       "    </tr>\n",
       "  </thead>\n",
       "  <tbody>\n",
       "    <tr>\n",
       "      <th>0</th>\n",
       "      <td>OnePlus Nord CE 2 Lite 5G (Blue Tide, 128 GB)</td>\n",
       "      <td>₹17,035</td>\n",
       "      <td>5000 mAh Battery</td>\n",
       "      <td>16.74 cm (6.59 inch) Display</td>\n",
       "      <td>[6 GB RAM ,  128 GB ROM]</td>\n",
       "      <td>64MP Rear Camera | 16MP Front Camera</td>\n",
       "    </tr>\n",
       "    <tr>\n",
       "      <th>1</th>\n",
       "      <td>OnePlus Nord CE 2 Lite 5G (Black Dusk, 128 GB)</td>\n",
       "      <td>₹17,023</td>\n",
       "      <td>5000 mAh Battery</td>\n",
       "      <td>16.74 cm (6.59 inch) Display</td>\n",
       "      <td>[6 GB RAM ,  128 GB ROM]</td>\n",
       "      <td>64MP Rear Camera | 16MP Front Camera</td>\n",
       "    </tr>\n",
       "    <tr>\n",
       "      <th>2</th>\n",
       "      <td>OnePlus Nord CE 3 Lite 5G (Chromatic Gray, 256...</td>\n",
       "      <td>₹21,794</td>\n",
       "      <td>5000 mAh Battery</td>\n",
       "      <td>17.07 cm (6.72 inch) Display</td>\n",
       "      <td>[8 GB RAM ,  256 GB ROM]</td>\n",
       "      <td>108MP Rear Camera</td>\n",
       "    </tr>\n",
       "    <tr>\n",
       "      <th>3</th>\n",
       "      <td>OnePlus Nord CE 3 Lite 5G (Chromatic Gray, 128...</td>\n",
       "      <td>₹19,440</td>\n",
       "      <td>5000 mAh Battery</td>\n",
       "      <td>17.07 cm (6.72 inch) Display</td>\n",
       "      <td>[8 GB RAM ,  128 GB ROM]</td>\n",
       "      <td>108MP Rear Camera</td>\n",
       "    </tr>\n",
       "    <tr>\n",
       "      <th>4</th>\n",
       "      <td>OnePlus Nord CE 3 Lite 5G (Chromatic Gray, 128...</td>\n",
       "      <td>₹19,500</td>\n",
       "      <td>5000 mAh Battery</td>\n",
       "      <td>17.07 cm (6.72 inch) Display</td>\n",
       "      <td>[8 GB RAM ,  128 GB ROM]</td>\n",
       "      <td>108MP Rear Camera</td>\n",
       "    </tr>\n",
       "    <tr>\n",
       "      <th>5</th>\n",
       "      <td>OnePlus Nord CE 3 Lite 5G (Pastel Lime, 256 GB)</td>\n",
       "      <td>₹21,492</td>\n",
       "      <td>5000 mAh Battery</td>\n",
       "      <td>17.07 cm (6.72 inch) Display</td>\n",
       "      <td>[8 GB RAM ,  256 GB ROM]</td>\n",
       "      <td>108MP Rear Camera</td>\n",
       "    </tr>\n",
       "    <tr>\n",
       "      <th>6</th>\n",
       "      <td>OnePlus Nord CE 3 Lite 5G (Pastel Lime, 128 GB)</td>\n",
       "      <td>₹19,636</td>\n",
       "      <td>5000 mAh Battery</td>\n",
       "      <td>17.07 cm (6.72 inch) Display</td>\n",
       "      <td>[8 GB RAM ,  128 GB ROM]</td>\n",
       "      <td>108MP Rear Camera</td>\n",
       "    </tr>\n",
       "    <tr>\n",
       "      <th>7</th>\n",
       "      <td>OnePlus Nord CE 3 Lite 5G (Pastel lime, 256 GB)</td>\n",
       "      <td>₹21,841</td>\n",
       "      <td>5000 mAh Battery</td>\n",
       "      <td>17.07 cm (6.72 inch) Display</td>\n",
       "      <td>[8 GB RAM ,  256 GB ROM]</td>\n",
       "      <td>108MP Rear Camera</td>\n",
       "    </tr>\n",
       "    <tr>\n",
       "      <th>8</th>\n",
       "      <td>OnePlus Nord CE3 5G (Grey Shimmer, 256 GB)</td>\n",
       "      <td>₹28,586</td>\n",
       "      <td>5000 mAh Battery</td>\n",
       "      <td>17.02 cm (6.7 inch) Display</td>\n",
       "      <td>[12 GB RAM ,  256 GB ROM]</td>\n",
       "      <td>50MP Rear Camera</td>\n",
       "    </tr>\n",
       "    <tr>\n",
       "      <th>9</th>\n",
       "      <td>OnePlus Nord CE3 5G (Aqua Surge, 256 GB)</td>\n",
       "      <td>₹28,235</td>\n",
       "      <td>5000 mAh Battery</td>\n",
       "      <td>17.02 cm (6.7 inch) Display</td>\n",
       "      <td>[12 GB RAM ,  256 GB ROM]</td>\n",
       "      <td>50MP Rear Camera</td>\n",
       "    </tr>\n",
       "    <tr>\n",
       "      <th>10</th>\n",
       "      <td>OnePlus Nord CE3 5G (Grey Shimmer, 128 GB)</td>\n",
       "      <td>₹24,943</td>\n",
       "      <td>5000 mAh Battery</td>\n",
       "      <td>17.02 cm (6.7 inch) Display</td>\n",
       "      <td>[8 GB RAM ,  128 GB ROM]</td>\n",
       "      <td>50MP Rear Camera</td>\n",
       "    </tr>\n",
       "    <tr>\n",
       "      <th>11</th>\n",
       "      <td>OnePlus Nord CE3 5G (Aqua Surge, 128 GB)</td>\n",
       "      <td>₹24,925</td>\n",
       "      <td>5000 mAh Battery</td>\n",
       "      <td>17.02 cm (6.7 inch) Display</td>\n",
       "      <td>[8 GB RAM ,  128 GB ROM]</td>\n",
       "      <td>50MP Rear Camera</td>\n",
       "    </tr>\n",
       "    <tr>\n",
       "      <th>12</th>\n",
       "      <td>OnePlus Nord CE 3 Lite 5G (Chromatic Gray, 256...</td>\n",
       "      <td>₹21,932</td>\n",
       "      <td>5000 mAh Battery</td>\n",
       "      <td>17.07 cm (6.72 inch) Display</td>\n",
       "      <td>[8 GB RAM ,  256 GB ROM]</td>\n",
       "      <td>108MP Rear Camera</td>\n",
       "    </tr>\n",
       "    <tr>\n",
       "      <th>13</th>\n",
       "      <td>OnePlus Nord CE 3 Lite 5G (Pastel Lime, 256 GB)</td>\n",
       "      <td>₹21,876</td>\n",
       "      <td>5000 mAh Battery</td>\n",
       "      <td>17.07 cm (6.72 inch) Display</td>\n",
       "      <td>[8 GB RAM ,  256 GB ROM]</td>\n",
       "      <td>108MP Rear Camera</td>\n",
       "    </tr>\n",
       "    <tr>\n",
       "      <th>14</th>\n",
       "      <td>OnePlus Nord 3 5G (Tempest Gray, 128 GB)</td>\n",
       "      <td>₹30,769</td>\n",
       "      <td>5000 mAh Battery</td>\n",
       "      <td>17.12 cm (6.74 inch) Display</td>\n",
       "      <td>[8 GB RAM ,  128 GB ROM]</td>\n",
       "      <td>50MP Rear Camera</td>\n",
       "    </tr>\n",
       "    <tr>\n",
       "      <th>15</th>\n",
       "      <td>OnePlus Nord CE 3 Lite 5G (Chromatic Gray, 128...</td>\n",
       "      <td>₹19,920</td>\n",
       "      <td>5000 mAh Battery</td>\n",
       "      <td>17.07 cm (6.72 inch) Display</td>\n",
       "      <td>[8 GB RAM ,  128 GB ROM]</td>\n",
       "      <td>108MP Rear Camera</td>\n",
       "    </tr>\n",
       "    <tr>\n",
       "      <th>16</th>\n",
       "      <td>OnePlus Nord 3 5G (Misty Green, 128 GB)</td>\n",
       "      <td>₹30,385</td>\n",
       "      <td>5000 mAh Battery</td>\n",
       "      <td>17.12 cm (6.74 inch) Display</td>\n",
       "      <td>[8 GB RAM ,  128 GB ROM]</td>\n",
       "      <td>50MP Rear Camera</td>\n",
       "    </tr>\n",
       "    <tr>\n",
       "      <th>17</th>\n",
       "      <td>OnePlus Nord 3 5G (Tempest Gray, 256 GB)</td>\n",
       "      <td>₹36,845</td>\n",
       "      <td>5000 mAh Battery</td>\n",
       "      <td>17.12 cm (6.74 inch) Display</td>\n",
       "      <td>[16 GB RAM ,  256 GB ROM]</td>\n",
       "      <td>50MP Rear Camera</td>\n",
       "    </tr>\n",
       "    <tr>\n",
       "      <th>18</th>\n",
       "      <td>OnePlus Nord CE 3 Lite 5G (Chromatic Gray, 256...</td>\n",
       "      <td>₹21,999</td>\n",
       "      <td>5000 mAh Battery</td>\n",
       "      <td>17.07 cm (6.72 inch) Display</td>\n",
       "      <td>[8 GB RAM ,  256 GB ROM]</td>\n",
       "      <td>108MP Rear Camera</td>\n",
       "    </tr>\n",
       "    <tr>\n",
       "      <th>19</th>\n",
       "      <td>OnePlus Nord 3 5G (Misty Green, 256 GB)</td>\n",
       "      <td>₹35,700</td>\n",
       "      <td>5000 mAh Battery</td>\n",
       "      <td>17.12 cm (6.74 inch) Display</td>\n",
       "      <td>[16 GB RAM ,  256 GB ROM]</td>\n",
       "      <td>50MP Rear Camera</td>\n",
       "    </tr>\n",
       "    <tr>\n",
       "      <th>20</th>\n",
       "      <td>OnePlus Nord CE 3 Lite 5G (Pastel Lime, 128 GB)</td>\n",
       "      <td>₹23,990</td>\n",
       "      <td>5000 mAh Battery</td>\n",
       "      <td>17.07 cm (6.72 inch) Display</td>\n",
       "      <td>[8 GB RAM ,  128 GB ROM]</td>\n",
       "      <td>108MP Rear Camera</td>\n",
       "    </tr>\n",
       "    <tr>\n",
       "      <th>21</th>\n",
       "      <td>OnePlus Nord CE 2 5G (Gray Mirror, 128 GB)</td>\n",
       "      <td>₹27,990</td>\n",
       "      <td>4500 mAh Battery</td>\n",
       "      <td>16.33 cm (6.43 inch) Display</td>\n",
       "      <td>[6 GB RAM ,  128 GB ROM]</td>\n",
       "      <td>50MP Rear Camera</td>\n",
       "    </tr>\n",
       "    <tr>\n",
       "      <th>22</th>\n",
       "      <td>OnePlus Nord CE 5G (Blue Void, 256 GB)</td>\n",
       "      <td>₹14,980</td>\n",
       "      <td>4500 mAh Battery</td>\n",
       "      <td>16.33 cm (6.43 inch) Display</td>\n",
       "      <td>[12 GB RAM ,  256 GB ROM]</td>\n",
       "      <td>64MP Rear Camera</td>\n",
       "    </tr>\n",
       "    <tr>\n",
       "      <th>23</th>\n",
       "      <td>OnePlus N20 SE (BLUE OASIS, 64 GB)</td>\n",
       "      <td>Price: Not Available</td>\n",
       "      <td>5000 mAh Battery</td>\n",
       "      <td>16.66 cm (6.56 inch) Display</td>\n",
       "      <td>[4 GB RAM ,  64 GB ROM]</td>\n",
       "      <td>50MP Rear Camera</td>\n",
       "    </tr>\n",
       "  </tbody>\n",
       "</table>\n",
       "</div>"
      ],
      "text/plain": [
       "                                            BRANDNAME                 PRICE  \\\n",
       "0       OnePlus Nord CE 2 Lite 5G (Blue Tide, 128 GB)               ₹17,035   \n",
       "1      OnePlus Nord CE 2 Lite 5G (Black Dusk, 128 GB)               ₹17,023   \n",
       "2   OnePlus Nord CE 3 Lite 5G (Chromatic Gray, 256...               ₹21,794   \n",
       "3   OnePlus Nord CE 3 Lite 5G (Chromatic Gray, 128...               ₹19,440   \n",
       "4   OnePlus Nord CE 3 Lite 5G (Chromatic Gray, 128...               ₹19,500   \n",
       "5     OnePlus Nord CE 3 Lite 5G (Pastel Lime, 256 GB)               ₹21,492   \n",
       "6     OnePlus Nord CE 3 Lite 5G (Pastel Lime, 128 GB)               ₹19,636   \n",
       "7     OnePlus Nord CE 3 Lite 5G (Pastel lime, 256 GB)               ₹21,841   \n",
       "8          OnePlus Nord CE3 5G (Grey Shimmer, 256 GB)               ₹28,586   \n",
       "9            OnePlus Nord CE3 5G (Aqua Surge, 256 GB)               ₹28,235   \n",
       "10         OnePlus Nord CE3 5G (Grey Shimmer, 128 GB)               ₹24,943   \n",
       "11           OnePlus Nord CE3 5G (Aqua Surge, 128 GB)               ₹24,925   \n",
       "12  OnePlus Nord CE 3 Lite 5G (Chromatic Gray, 256...               ₹21,932   \n",
       "13    OnePlus Nord CE 3 Lite 5G (Pastel Lime, 256 GB)               ₹21,876   \n",
       "14           OnePlus Nord 3 5G (Tempest Gray, 128 GB)               ₹30,769   \n",
       "15  OnePlus Nord CE 3 Lite 5G (Chromatic Gray, 128...               ₹19,920   \n",
       "16            OnePlus Nord 3 5G (Misty Green, 128 GB)               ₹30,385   \n",
       "17           OnePlus Nord 3 5G (Tempest Gray, 256 GB)               ₹36,845   \n",
       "18  OnePlus Nord CE 3 Lite 5G (Chromatic Gray, 256...               ₹21,999   \n",
       "19            OnePlus Nord 3 5G (Misty Green, 256 GB)               ₹35,700   \n",
       "20    OnePlus Nord CE 3 Lite 5G (Pastel Lime, 128 GB)               ₹23,990   \n",
       "21         OnePlus Nord CE 2 5G (Gray Mirror, 128 GB)               ₹27,990   \n",
       "22             OnePlus Nord CE 5G (Blue Void, 256 GB)               ₹14,980   \n",
       "23                 OnePlus N20 SE (BLUE OASIS, 64 GB)  Price: Not Available   \n",
       "\n",
       "             BATTERY                       DISPLAY                    STORAGE  \\\n",
       "0   5000 mAh Battery  16.74 cm (6.59 inch) Display   [6 GB RAM ,  128 GB ROM]   \n",
       "1   5000 mAh Battery  16.74 cm (6.59 inch) Display   [6 GB RAM ,  128 GB ROM]   \n",
       "2   5000 mAh Battery  17.07 cm (6.72 inch) Display   [8 GB RAM ,  256 GB ROM]   \n",
       "3   5000 mAh Battery  17.07 cm (6.72 inch) Display   [8 GB RAM ,  128 GB ROM]   \n",
       "4   5000 mAh Battery  17.07 cm (6.72 inch) Display   [8 GB RAM ,  128 GB ROM]   \n",
       "5   5000 mAh Battery  17.07 cm (6.72 inch) Display   [8 GB RAM ,  256 GB ROM]   \n",
       "6   5000 mAh Battery  17.07 cm (6.72 inch) Display   [8 GB RAM ,  128 GB ROM]   \n",
       "7   5000 mAh Battery  17.07 cm (6.72 inch) Display   [8 GB RAM ,  256 GB ROM]   \n",
       "8   5000 mAh Battery   17.02 cm (6.7 inch) Display  [12 GB RAM ,  256 GB ROM]   \n",
       "9   5000 mAh Battery   17.02 cm (6.7 inch) Display  [12 GB RAM ,  256 GB ROM]   \n",
       "10  5000 mAh Battery   17.02 cm (6.7 inch) Display   [8 GB RAM ,  128 GB ROM]   \n",
       "11  5000 mAh Battery   17.02 cm (6.7 inch) Display   [8 GB RAM ,  128 GB ROM]   \n",
       "12  5000 mAh Battery  17.07 cm (6.72 inch) Display   [8 GB RAM ,  256 GB ROM]   \n",
       "13  5000 mAh Battery  17.07 cm (6.72 inch) Display   [8 GB RAM ,  256 GB ROM]   \n",
       "14  5000 mAh Battery  17.12 cm (6.74 inch) Display   [8 GB RAM ,  128 GB ROM]   \n",
       "15  5000 mAh Battery  17.07 cm (6.72 inch) Display   [8 GB RAM ,  128 GB ROM]   \n",
       "16  5000 mAh Battery  17.12 cm (6.74 inch) Display   [8 GB RAM ,  128 GB ROM]   \n",
       "17  5000 mAh Battery  17.12 cm (6.74 inch) Display  [16 GB RAM ,  256 GB ROM]   \n",
       "18  5000 mAh Battery  17.07 cm (6.72 inch) Display   [8 GB RAM ,  256 GB ROM]   \n",
       "19  5000 mAh Battery  17.12 cm (6.74 inch) Display  [16 GB RAM ,  256 GB ROM]   \n",
       "20  5000 mAh Battery  17.07 cm (6.72 inch) Display   [8 GB RAM ,  128 GB ROM]   \n",
       "21  4500 mAh Battery  16.33 cm (6.43 inch) Display   [6 GB RAM ,  128 GB ROM]   \n",
       "22  4500 mAh Battery  16.33 cm (6.43 inch) Display  [12 GB RAM ,  256 GB ROM]   \n",
       "23  5000 mAh Battery  16.66 cm (6.56 inch) Display    [4 GB RAM ,  64 GB ROM]   \n",
       "\n",
       "                                  CAMERA  \n",
       "0   64MP Rear Camera | 16MP Front Camera  \n",
       "1   64MP Rear Camera | 16MP Front Camera  \n",
       "2                      108MP Rear Camera  \n",
       "3                      108MP Rear Camera  \n",
       "4                      108MP Rear Camera  \n",
       "5                      108MP Rear Camera  \n",
       "6                      108MP Rear Camera  \n",
       "7                      108MP Rear Camera  \n",
       "8                       50MP Rear Camera  \n",
       "9                       50MP Rear Camera  \n",
       "10                      50MP Rear Camera  \n",
       "11                      50MP Rear Camera  \n",
       "12                     108MP Rear Camera  \n",
       "13                     108MP Rear Camera  \n",
       "14                      50MP Rear Camera  \n",
       "15                     108MP Rear Camera  \n",
       "16                      50MP Rear Camera  \n",
       "17                      50MP Rear Camera  \n",
       "18                     108MP Rear Camera  \n",
       "19                      50MP Rear Camera  \n",
       "20                     108MP Rear Camera  \n",
       "21                      50MP Rear Camera  \n",
       "22                      64MP Rear Camera  \n",
       "23                      50MP Rear Camera  "
      ]
     },
     "execution_count": 192,
     "metadata": {},
     "output_type": "execute_result"
    }
   ],
   "source": [
    "df = pd.DataFrame({'BRANDNAME':Brand_Name,'PRICE':Price,'BATTERY':Battery,'DISPLAY':Display_size_Resolution,'STORAGE':AM1,\"CAMERA\":P_F_Camera})       \n",
    "df"
   ]
  },
  {
   "cell_type": "code",
   "execution_count": 193,
   "id": "558e9964",
   "metadata": {},
   "outputs": [],
   "source": [
    "df.to_csv('flipkart_smartphones.csv', index=False)"
   ]
  },
  {
   "cell_type": "code",
   "execution_count": 190,
   "id": "30c0fb80",
   "metadata": {},
   "outputs": [],
   "source": [
    "#Question 5"
   ]
  },
  {
   "cell_type": "code",
   "execution_count": 194,
   "id": "8f3031be",
   "metadata": {},
   "outputs": [],
   "source": [
    "driver=webdriver.Chrome()\n",
    "driver.get(\"https://www.google.co.in/maps\")\n",
    "time.sleep(3)"
   ]
  },
  {
   "cell_type": "code",
   "execution_count": 197,
   "id": "f211a07b",
   "metadata": {},
   "outputs": [
    {
     "name": "stdout",
     "output_type": "stream",
     "text": [
      "Enter City Name : delhi\n"
     ]
    }
   ],
   "source": [
    "city = input('Enter City Name : ')                                         \n",
    "search = driver.find_element(By.ID,\"searchboxinput\")                      \n",
    "search.clear()                                                             \n",
    "time.sleep(2)\n",
    "search.send_keys(city)                                                     \n",
    "button = driver.find_element(By.ID,\"searchbox-searchbutton\")               \n",
    "button.click()                                                             \n",
    "time.sleep(3)"
   ]
  },
  {
   "cell_type": "code",
   "execution_count": 199,
   "id": "63126531",
   "metadata": {},
   "outputs": [
    {
     "name": "stdout",
     "output_type": "stream",
     "text": [
      "URL Extracted:  https://www.google.co.in/maps/place/Delhi/@28.6436846,76.7635543,10z/data=!3m1!4b1!4m6!3m5!1s0x390cfd5b347eb62d:0x37205b715389640!8m2!3d28.7040592!4d77.1024902!16zL20vMDlmMDc?entry=ttu\n",
      "Latitude = 28.6436846, Longitude = 76.7635543\n"
     ]
    }
   ],
   "source": [
    "import re\n",
    "try:\n",
    "    url_string = driver.current_url\n",
    "    print(\"URL Extracted: \", url_string)\n",
    "    lat_lng = re.findall(r'@(.*)data',url_string)\n",
    "    if len(lat_lng):\n",
    "        lat_lng_list = lat_lng[0].split(\",\")\n",
    "        if len(lat_lng_list)>=2:\n",
    "            lat = lat_lng_list[0]\n",
    "            lng = lat_lng_list[1]\n",
    "        print(\"Latitude = {}, Longitude = {}\".format(lat, lng))\n",
    "\n",
    "except Exception as e:\n",
    "        print(\"Error: \", str(e))"
   ]
  },
  {
   "cell_type": "code",
   "execution_count": 200,
   "id": "c131a72b",
   "metadata": {},
   "outputs": [],
   "source": [
    "#Question 7"
   ]
  },
  {
   "cell_type": "code",
   "execution_count": 201,
   "id": "2d6eabf8",
   "metadata": {},
   "outputs": [],
   "source": [
    "import selenium\n",
    "import pandas as pd\n",
    "from selenium import webdriver\n",
    "import warnings\n",
    "warnings.filterwarnings('ignore')\n",
    "from selenium.webdriver.common.by import By\n",
    "import time"
   ]
  },
  {
   "cell_type": "code",
   "execution_count": 202,
   "id": "fec9dd1c",
   "metadata": {},
   "outputs": [],
   "source": [
    "driver=webdriver.Chrome()\n",
    "driver.get(\"https://www.forbes.com/billionaires/\")\n",
    "driver.maximize_window()  \n"
   ]
  },
  {
   "cell_type": "code",
   "execution_count": 203,
   "id": "1ec25ae8",
   "metadata": {},
   "outputs": [],
   "source": [
    "t=driver.find_element(By.XPATH,'/html/body/div[1]/div[2]/div[3]/div[2]/div[2]/div[1]/div/div[2]/div/div[1]/div/div')\n"
   ]
  },
  {
   "cell_type": "code",
   "execution_count": 204,
   "id": "8e164fa9",
   "metadata": {},
   "outputs": [
    {
     "name": "stdout",
     "output_type": "stream",
     "text": [
      "['1', '2', '3', '4', '5', '6', '7', '8', '9', '10', '11', '12', '13', '14', '15', '16', '17', '17', '19', '20', '21', '22', '23', '24', '25', '26', '27', '28', '29', '30', '31', '31', '33', '34', '35', '35', '37', '38', '39', '40', '41', '41', '43', '43', '45', '46', '47', '48', '49', '50', '51', '52', '53', '54', '55', '56', '57', '58', '59', '60', '61', '62', '63', '64', '65', '65', '67', '68', '69', '70', '71', '72', '72', '74', '74', '76', '77', '77', '79', '80', '81', '82', '83', '84', '84', '86', '86', '88', '89', '89', '89', '92', '93', '94', '94', '94', '97', '97', '99', '100', '101', '101', '103', '104', '104', '106', '107', '108', '108', '108', '108', '112', '113', '114', '115', '116', '116', '118', '119', '120', '121', '122', '123', '124', '124', '126', '127', '128', '128', '130', '130', '130', '133', '133', '133', '136', '137', '138', '138', '140', '141', '142', '142', '144', '145', '146', '147', '148', '148', '148', '151', '151', '153', '153', '153', '153', '157', '157', '159', '159', '161', '161', '161', '164', '165', '165', '167', '167', '167', '170', '171', '171', '171', '171', '171', '171', '171', '171', '179', '179', '179', '182', '183', '184', '184', '184', '184', '184', '184', '190', '190', '190', '190', '190', '195', '195', '195', '195', '195', '195']\n"
     ]
    }
   ],
   "source": [
    "rank=[]\n",
    "B=driver.find_elements(By.XPATH,'//div[@class=\"Table_rank___YBhk Table_dataCell__2QCve\"]')\n",
    "for i in B:\n",
    "    if i.text is None :\n",
    "        rank.append(\"--\") \n",
    "    else:\n",
    "        rank.append(i.text)\n",
    "print(rank)"
   ]
  },
  {
   "cell_type": "code",
   "execution_count": 205,
   "id": "96c737e1",
   "metadata": {},
   "outputs": [
    {
     "name": "stdout",
     "output_type": "stream",
     "text": [
      "['$211 B', '$180 B', '$114 B', '$107 B', '$106 B', '$104 B', '$94.5 B', '$93 B', '$83.4 B', '$80.7 B', '$80.5 B', '$79.2 B', '$77.3 B', '$76 B', '$68 B', '$64.4 B', '$59 B', '$59 B', '$58.8 B', '$57.6 B', '$56.7 B', '$54.4 B', '$50.1 B', '$47.2 B', '$45.1 B', '$45 B', '$42.9 B', '$40.1 B', '$39.1 B', '$38.9 B', '$38.3 B', '$38.3 B', '$38 B', '$35.3 B', '$35 B', '$35 B', '$34.7 B', '$33.4 B', '$32.6 B', '$32.1 B', '$31.6 B', '$31.6 B', '$31.2 B', '$31.2 B', '$30.2 B', '$29.7 B', '$29.5 B', '$28.5 B', '$28.1 B', '$27.8 B', '$27.4 B', '$27 B', '$26.7 B', '$26.6 B', '$25.6 B', '$25.5 B', '$25.3 B', '$25.2 B', '$24.6 B', '$24.4 B', '$24.2 B', '$23.7 B', '$23.5 B', '$23.4 B', '$23.1 B', '$23.1 B', '$22.9 B', '$22.6 B', '$22.4 B', '$22.1 B', '$22 B', '$21.6 B', '$21.6 B', '$21.2 B', '$21.2 B', '$21.1 B', '$21 B', '$21 B', '$20.9 B', '$20.5 B', '$20.2 B', '$19.6 B', '$19.1 B', '$19 B', '$19 B', '$18.9 B', '$18.9 B', '$18.7 B', '$18.5 B', '$18.5 B', '$18.5 B', '$18 B', '$17.7 B', '$17.5 B', '$17.5 B', '$17.5 B', '$17.4 B', '$17.4 B', '$17.1 B', '$16.7 B', '$16.5 B', '$16.5 B', '$16.3 B', '$16.2 B', '$16.2 B', '$16 B', '$15.9 B', '$15.8 B', '$15.8 B', '$15.8 B', '$15.8 B', '$15.6 B', '$15.5 B', '$15.3 B', '$15.2 B', '$14.9 B', '$14.9 B', '$14.8 B', '$14.7 B', '$14.6 B', '$14.5 B', '$14.4 B', '$14.3 B', '$14.2 B', '$14.2 B', '$14.1 B', '$14 B', '$13.9 B', '$13.9 B', '$13.7 B', '$13.7 B', '$13.7 B', '$13.3 B', '$13.3 B', '$13.3 B', '$13.2 B', '$13.1 B', '$12.9 B', '$12.9 B', '$12.6 B', '$12.3 B', '$12.2 B', '$12.2 B', '$12.1 B', '$12 B', '$11.8 B', '$11.6 B', '$11.5 B', '$11.5 B', '$11.5 B', '$11.4 B', '$11.4 B', '$11.3 B', '$11.3 B', '$11.3 B', '$11.3 B', '$11.1 B', '$11.1 B', '$11 B', '$11 B', '$10.9 B', '$10.9 B', '$10.9 B', '$10.7 B', '$10.6 B', '$10.6 B', '$10.5 B', '$10.5 B', '$10.5 B', '$10.3 B', '$10.2 B', '$10.2 B', '$10.2 B', '$10.2 B', '$10.2 B', '$10.2 B', '$10.2 B', '$10.2 B', '$10.1 B', '$10.1 B', '$10.1 B', '$10 B', '$9.9 B', '$9.8 B', '$9.8 B', '$9.8 B', '$9.8 B', '$9.8 B', '$9.8 B', '$9.7 B', '$9.7 B', '$9.7 B', '$9.7 B', '$9.7 B', '$9.6 B', '$9.6 B', '$9.6 B', '$9.6 B', '$9.6 B', '$9.6 B']\n"
     ]
    }
   ],
   "source": [
    "networth=[]\n",
    "n=driver.find_elements(By.XPATH,'//div[@class=\"Table_netWorth___L4R5 Table_dataCell__2QCve\"]')\n",
    "for i in n:\n",
    "    if i.text is None :\n",
    "        networth.append(\"--\") \n",
    "    else:\n",
    "        networth.append(i.text)\n",
    "print(networth)"
   ]
  },
  {
   "cell_type": "code",
   "execution_count": 207,
   "id": "d94c7638",
   "metadata": {},
   "outputs": [],
   "source": [
    "#Question 8"
   ]
  },
  {
   "cell_type": "code",
   "execution_count": 208,
   "id": "713fbe19",
   "metadata": {},
   "outputs": [],
   "source": [
    "import time\n",
    "from selenium.webdriver import Chrome\n",
    "from selenium.webdriver.common.by import By\n",
    "from selenium.webdriver.common.keys import Keys\n",
    "from selenium.webdriver.support.ui import WebDriverWait\n",
    "from selenium.webdriver.support import expected_conditions as EC"
   ]
  },
  {
   "cell_type": "code",
   "execution_count": 209,
   "id": "2e553358",
   "metadata": {},
   "outputs": [
    {
     "name": "stdout",
     "output_type": "stream",
     "text": [
      "Watching in 2017???? l\n",
      "LOL\n",
      "Muitos anos se passaram e essa musica continúa sendo muito boa, cómo pode\n",
      "30 dias para 2024 e eu aqui escutando essa obra de arte\n",
      "No matter how many years pass, this song will stay in our hearts forever\n",
      "Muitos anos se passaram e essa música continua sendo muito boa, como pode \n",
      "Thumbs up if u still hating this in 2015\n",
      "essa música nunca será esquecida \n",
      "No matter how many years pass, this song will stay in our hearts forever!\n",
      "Me sinto Orgulhosa de ter vivido esse tempo nostalgia total 🩷\n",
      "Não procuramos músicas antigas,\n",
      "\n",
      "Procuramos memórias antigas\n",
      "nunca vou deixar de ouvir essa musicaaaaaa na minha vidaaaaa!!!!!!!!!\n",
      "Let's be honest, some of us came just to check the views\n",
      "Justin Bieber tem uma voz surreal \n",
      "Relíquiaaaaa \n",
      "decent beat, ludacris, drake cameo... at least no one is in space or running on walls\n",
      "Cresci ouvindo essa música, virei belieber(sou de 2009)\n",
      "30 dias pra 2023 acabar e eu aqui ouvindo Baby, essa música nunca envelhece \n",
      "A peace  of art that never gets old\n",
      "The only reason I am on this video was to see if the 'rumour' I heard about there being more dislikes than likes was true. Turns out it is. Huh.\n",
      "La mejor etapa de mi infancia fue a lado de esta canción, Gracias por tantos recuerdos  y gracias por tantos nuevos, ahora más que antes, gracias justin \n",
      "Sou de 2006 e era completamente apaixonada por essa música!! Bons tempos. 1:48\n",
      "This song never gets old \n",
      "\n",
      "Memories \n",
      "Al escuchar otra vez esta canción me ha recorrido por mi cuerpo una gran nostalgia y me he puesto muy feliz <3\n",
      "This song is one year younger than me and it still gives goosebumps \n",
      "Song gets great at 3:45\n",
      "Canso nunca  \n",
      "Amo tanto essa\n",
      "ya pasaron 13 años y se siente como ayer que no la paraba de escuchar\n",
      "TEMAZO.\n",
      "What's your favorite part of the song? Mine is 3:45\n",
      "No matter how many days pass,this song will never gonna old️\n",
      "Relembrar a infância e a adolescência é algo único, né?\n",
      "WHOS HERE ON 19TH FEBRUARY 2016? CANT BELIEVE ITS BEEN 6 YEARS OF BABY :'(\n",
      "This song is timeless, doesn’t matter how old it is it’ll always be a masterpiece.\n",
      "This song will always be remembered as a piece of art\n",
      "Esta cancion nunca pasara de moda\n",
      "No matter how many years pass this song will stay in our heart forever it's the end of 2023 and we still listen this masterpiece\n",
      "this song will never go out of style\n",
      "HOW IS THIS KID'S VOICE SO HIGH!? IT BROKE MY FRIGGIN WINDOWS!!!\n",
      "Essa música é uma das minhas melhores memórias de quando eu era apenas uma criança de 7 anos de idade ouvindo essa pérola pela primeira vez através de um rádio com antena que ganhei de meu pai  Sinto falta disso... A geração de hoje não entenderia uma época tão boa como essa\n",
      "Después de 13 años sigo recordando la letra...\n",
      "Came here for the nostalgia, we all hated on the song back then, but when we think about it, it's a really good pop song, it stays in your head forever. Everybody knows the song and the lyrics by heart.\n",
      "I would say Justin Bieber defined a whole generation. He was and still is one of the most famous singers out there and the fact he is still relevant is really astonishing.\n",
      "Am I the only one who comes back to this video, just to see the view count and dislike/like ratio?\n",
      "Amo amo \n",
      "No matter how many years pass this song will stay in our heart forever it's the end of 2023 and we still listen this masterpiece \n",
      "Am I the only one here because of the Carpool Karaoke?? xD i can't take this song out of my mind now\n",
      "Passa o tempo q for mais essa continua boa kkk Amoooooo\n",
      "This song will always hold something special in my heart. \n",
      "Quando eu era pequena eu era viciada nessa música kk até hoje eu ouço\n",
      "Amo \n",
      "Essa voizinha  oh meu deuso\n",
      "Who clicked on this just to see how many views and dislikes it has\n",
      "Não importa onde eu esteja ou em wue ano esteja, se essa tocar, eu vou cantar\n",
      "Every time I listen to this song, I feel nostalgic for yesterday.\n",
      "Menos de um mês para 2023 acabar e eu aqui ouvindo essa música \n",
      "who came here to see the dislikes?\n",
      "fua que recuerdos con esta cancion! me encanta \n",
      "AMO ESSE MUSICA \n",
      "Esse garoto vai ser o novo michael jackson, ele dança e canta\n",
      "Escuchando canciones que te traen recuerdos hermosos de nuestra juventud 🥹\n",
      " best songs \n",
      "It's been an honour Sir,\n",
      "but... it is time for you to be relieved of your duty.\n",
      "Amo essa\n",
      "Such an old but nostalgic song. It's exactly like wine, the older-the better, still my favorite song!\n",
      "one of my fav songs since 5 years 1st time heard it still vibes\n",
      "Came here to compare the dislikes w CoD\n",
      "Nunca voy a superar esta canción\n",
      "Wow \n",
      "Amo esta canción desde que salió y yo literalmente era un bebé cuando salió\n",
      "Sigue sonando duro en pleno 2023 para 2024\n",
      "I’m here during quarantine \n",
      "Anyone noticed there’s 16M likes and 12M dislikes and the difference is only 4M lol\n",
      "this song never gets old\n",
      "eu chorava quando era criança por ele kkkkk \n",
      "This music is younger than me but its still old and its still nice in my country its a bit popular but it gives me summer vibes \n",
      "Masterpiece \n",
      "just come here after a girl sings \"i know we're just friends but when he..\" lmao\n",
      "13 years ago and I still love this song and listen to it when I am with my lover \n",
      "It still feels refreshing to sing and dance to this song\n",
      "Melhor msc \n",
      "13 years and still sounds fresh like yesterday. Everytime made me groove till 2023.\n",
      "Gracias Justin, amo tu música.\n",
      "atte: tu believer n°1! <3\n",
      "1 billion views. All of YouTube has seen this video\n",
      "HINO HINOOOO\n",
      "Essa musica e a rasao da minha vida niguem vai odiar ela mesmo sendo antiga\n",
      "Lembro em 2010 qnd eu tinha 6 q essa música junto com Justin estouro as minas tudo apaixonada por ele e os caras fazia meme chamando de justin biba, Bons tempos \n",
      "Mano música boa de mais\n",
      " this song\n",
      "Justin beiber watching this on 2020 be like: ._.\n",
      "This song never gets old..\n",
      "Agradezco muchísimo a Dios por permitirme seguir escuchando esta canción , me da nostalgia al saber que han pasado tantos años.\n",
      "It still feels refreshing to sing and dance to this song\n",
      "13 years and i still love this song\n",
      "I have grown up, but my inner teenager loves this song. I want to go back to 2010. I miss it\n",
      "Remove your dislikes so  rewind will pass\n",
      "30 anos na cara kk 17 dias pra acabar 2023 e eu aqui escutando Baby 🥹 parece até que to em 2009\n",
      "Esta canción es literalmente la definición de nostalgia\n",
      "Amazing song \n",
      "The time when I was a big fan of justin...the song was always bumped on my head. I miss that era \n",
      "As the years go on, this song becomes even more of a certified hood classic\n",
      "Baby Released 8 years ago gets 9 million dislikes\n",
      "Youtube rewind released 2 days ago gets 5 million dislikes \n",
      "Lmao ok\n",
      "Menos de um mês para acabar o ano ️🫶 e vamos das antigas \n",
      "O primeiro amor agnt nunca esquece\n",
      "I love this song \n",
      "This song never gets old\n",
      "Hermosooss recuerdoos\n",
      "imagine how many notifications he gets only from this song\n",
      "My First Most Fav English Song Since Childhood And This Song Always Holds A Special Place In My Heart Because Of My Fav JB ️\n",
      "Always be my favorite song \n",
      "Джастин молодец. Красивые и мелодичные клипы! Спасибо!\n",
      "Me encantaaaa\n",
      "This song literally carried my childhood! Soon it's gonna be 2024 but the vibe of this song will be the same!!\n",
      "Oh YouTube rewind will definitely out dislike this\n",
      "Essa passava na rádio, e foi a primeira vez que me apaixonei.  lembro-me como se fosse ontem, eu ligava pra pedir música só pra ouvir várias vezes. A noite passava bastante também, e eu ficava sentada ao lado ao rádio pra ouvir. Meu Deus que saudade. \n",
      "Love this voice love this song\n",
      "2024 but still we have some old memories with this songs.️\n",
      "Esta canción nunca pasará de moda ya casi se acaba el 2023 y yo aquí sigo escuchándola \n",
      "I've heard about this song since it first came out but had never listened to the whole thing. It's always had a reputation as the most disliked video on YouTube. I've heard Bieber's voice in enough different contexts to know he sings very well, very soulfully, and accurately (without much auto-tune fixing up). After reading for the zillionth time how much hate is directed at Justin, and especially for this song, I finally said to myself \"Just Do It!\" and watched the whole video.\n",
      "Came back to see this song be successful\n",
      "This song always motivate me from every situation \n",
      "毎日聞いているくらい、すごく好きな曲。\n",
      "extraño estos tiempos \n",
      "AMO ESTA CANCION , ES LO MAS BELLO DEL MUNDO\n",
      "Me encanta esta canción \n",
      "I'm probably a misogynist because I checked this video out in 2019.\n",
      "Te amo mi chiquito hermoso<3 sigo escuchando esta canción como la primera vez, cuándo tenia 9 años hoy en día voy para los 22\n",
      "31 dias pra acabar o ano e eu escutando musica de 2010\n",
      "No matter how old this song is I still think it's modern 🫶\n",
      "Love to listening this masterpiece every day \n",
      "This is not a song, this is my childhood ️ \n",
      "02.00 p.m - 17/12/2023\n",
      "Youtube Rewind: Mr Bieber.. I don't feel so good\n",
      "Vim de 2023 pra cá essa música e ótima\n",
      "Hoje em 2023 estou ouvindo, e daqui 50 anos irei ouvir também\n",
      "I love  this song!!!!\n",
      "I love this song\n",
      "Who else came here curious of the dislikes?\n",
      "Forever my favorite song \n",
      "Creo que siempre la voy a escuchar, y no puedo creer que JB esté a punto de cumplir 30.\n",
      "This song is so amazing\n",
      "there's never old songs it's just old memories\n",
      "What a wonderful voice\n",
      "People: This is the most disliked video on Youtube.\n",
      "\n",
      "2018 Youtube Rewind: I am a joke to you?\n",
      "One of my favorite songs, literally since I was very little I have listened to it, this is it and almost all of his music\n",
      "J adore cette chanson \n",
      "So cool song and sweet heart \n",
      "3 anos depois e eu aqui dnv \n",
      "We will never ever ever be apart \n",
      "People be wondering if Sadak 2 trailer ends up having more dislikes than this video\n",
      "LOVE it \n",
      "The day this video was released was the day my daughter was born. I’ll never forget it. Now we sing to it! This song and “Clover Cage - Warr Is Only Won With Love” are the two songs keeping me sane through these tough times. I just want to send love to everyone and I want everyone to know things will get better. We are in this together..I love you \n",
      "Remembered it after 13 years \n",
      "Saudades dessa época, mds\n",
      "I think Justin had the best glow ups, from most hated song to cool songs that everyone heard\n",
      "Just imagine how many people are watching this while you watching it\n",
      "Eu quase em 2024 com essa música favorita kakakakak\n",
      "epoca boa foi essa que vivi <3\n",
      "Очаровательный малыш и хорошая песня.\n",
      "No se por que odiaba esto si es una obra de arte\n",
      "Can't believe this song was 13 years ago.. but still here vibing this song\n",
      "1:15 It’s been almost 11 years and just now  realized drake was in the song.\n",
      "Lots of childhood memories..feeling like time traveling to my 13 yrs back childhood period.\n",
      "Esa musica es la mejor para quitar los disgustos es la mejor  \n",
      "I miss this song ever when I was 13 years old  being a 90's this song is out theme song of my first love my first girlfriend I miss that time\n",
      "Nossa, que saudades dessa época! Quem diria que o mumdo fosse se tornar nisso que vivemos hoje e que perderiamos nosso ente queridos! Sdds do meu eu criança \n",
      "Wow\n",
      "At 2020 After watchin'  [Yummy] who Ever Come to an conclusion that [Baby] has the Most Disliked Video of All Time in the Entire Youtube Industry of His Music Career.\n",
      "Obra prima, mt foda, pqp.\n",
      "Favorite song of my life forever \n",
      "Never get old\n",
      "Love this song\n",
      "it is iconic \n",
      "No one is gonna talk about he tried getting a girl in a bowling area\n",
      "Very fun and Phenomenal lyrics by Astonishing Lyriasists! So super happy with the video and ALL y'all did a great job\n",
      "I used to hate this song as a kid, but listening to it again just hits me with nostalgia.\n",
      "My favourite song \n",
      "the fact that i first listened to this song 10 YEARS AGO in my sisters phone is crazy man, nostalgia is kicking in\n",
      "This got me through a break up   and I can't believe Justin Bieber is so young \n",
      "Legendary\n",
      "Beiber\n",
      "Suprise to see 2 things\n",
      "1) 10 million dislikes\n",
      "涙が出てきた、この時代に戻りたい\n",
      "30 dias para 2024 e eu aqui escutando essa obra de arte\n",
      "essa música nunca será esquecida \n",
      "Muitos anos se passaram e essa musica continúa sendo muito boa, cómo pode\n",
      "No matter how many years pass, this song will stay in our hearts forever!\n",
      "This song is one year younger than me and it still gives goosebumps \n",
      "Me sinto Orgulhosa de ter vivido esse tempo nostalgia total 🩷\n",
      "This song never gets old \n",
      "Memories ️\n",
      "Cresci ouvindo essa música, virei belieber(sou de 2009)\n",
      "No matter how many years pass this song will stay in our heart forever it's the end of 2023 and we still listen this masterpiece\n",
      "No matter how many years pass, this song will stay in our hearts forever\n",
      "This song is timeless, doesn’t matter how old it is it’ll always be a masterpiece.\n",
      "this song will never go out of style\n",
      "Masterpiece \n",
      "Muitos anos se passaram e essa musica continúa sendo muito boa, cómo pode\n",
      "No matter how many years pass, this song will stay in our hearts forever!\n",
      "30 dias para 2024 e eu aqui escutando essa obra de arte\n",
      "This song is one year younger than me and it still gives goosebumps \n",
      "No matter how many years pass, this song will stay in our hearts forever!\n",
      "This song never gets old \n",
      "\n",
      "Memories \n",
      "This song is one year younger than me and it still gives goosebumps \n",
      "No matter how many years pass this song will stay in our heart forever it's the end of 2023 and we still listen this masterpiece\n",
      "This song never gets old \n",
      "\n",
      "Memories \n",
      "This song is one year younger than me and it still gives goosebumps \n"
     ]
    }
   ],
   "source": [
    "with Chrome() as driver:\n",
    "    wait = WebDriverWait(driver,10)\n",
    "    driver.get(\"https://www.youtube.com/watch?v=kffacxfA7G4\")\n",
    "\n",
    "    for item in range(10):\n",
    "        wait.until(EC.visibility_of_element_located((By.TAG_NAME, \"body\"))).send_keys(Keys.END)\n",
    "        time.sleep(3)\n",
    "\n",
    "    for comment in wait.until(EC.presence_of_all_elements_located((By.CSS_SELECTOR, \"#comment #content-text\"))):\n",
    "        print(comment.text)"
   ]
  },
  {
   "cell_type": "code",
   "execution_count": 210,
   "id": "38a2c0c1",
   "metadata": {},
   "outputs": [],
   "source": [
    "#Question 9"
   ]
  },
  {
   "cell_type": "code",
   "execution_count": 211,
   "id": "bbdf2e0f",
   "metadata": {},
   "outputs": [],
   "source": [
    "from selenium import webdriver\n",
    "from selenium.webdriver.common.by import By\n",
    "from selenium.webdriver.common.keys import Keys\n",
    "import time"
   ]
  },
  {
   "cell_type": "code",
   "execution_count": 214,
   "id": "c71546b1",
   "metadata": {},
   "outputs": [],
   "source": [
    "driver=webdriver.Chrome()\n",
    "driver.get('https://www.hostelworld.com')\n",
    "s=driver.find_element(By.XPATH,'/html/body/div[3]/div/div/div[2]/div[2]/header/div[2]/div[2]/div/button').click()\n",
    "accomodation=driver.find_element(By.XPATH,'//*[@id=\"one\"]/button/span/div').click()\n",
    "hostel=driver.find_element(By.XPATH,'/html/body/div[3]/div/div/div[2]/div[2]/header/div[2]/div[2]/div/div/div/div[2]/div/ul/li[1]/div/li[1]/a/div/div').click()\n",
    "location=driver.find_element(By.XPATH,'/html[1]/body[1]/div[3]/div[1]/div[1]/div[3]/main[1]/div[1]/div[1]/div[1]/div[1]/div[1]/label[1]/input[1]').send_keys('London')\n",
    "search=driver.find_element(By.XPATH,'/html[1]/body[1]/div[3]/div[1]/div[1]/div[3]/main[1]/section[1]/div[2]/div[1]/a[1]').click()\n",
    "driver.maximize_window()\n",
    "time.sleep(2)"
   ]
  },
  {
   "cell_type": "code",
   "execution_count": 215,
   "id": "afc0349c",
   "metadata": {},
   "outputs": [],
   "source": [
    "hostel=driver.find_element(By.XPATH,'//div[@class=\"property-listing-cards\"]')\n",
    "\n"
   ]
  },
  {
   "cell_type": "code",
   "execution_count": 216,
   "id": "86aaf7c4",
   "metadata": {},
   "outputs": [
    {
     "name": "stdout",
     "output_type": "stream",
     "text": [
      "['- 5.47km from city centre', '- 0.65km from city centre', '- 5.39km from city centre', '- 1.72km from city centre', '- 6.32km from city centre', '- 3.57km from city centre', '- 2.14km from city centre', '- 1.86km from city centre', '- 5.51km from city centre', '- 5.14km from city centre', '- 5.07km from city centre', '- 6.5km from city centre', '- 3.26km from city centre', '- 4.93km from city centre', '- 4.92km from city centre', '- 6.15km from city centre', '- 5.47km from city centre', '- 2.24km from city centre', '- 3.27km from city centre', '- 1.6km from city centre', '- 4.34km from city centre', '- 3.61km from city centre', '- 10.86km from city centre', '- 11.9km from city centre', '- 4.38km from city centre', '- 1.78km from city centre', '- 0.18km from city centre', '- 1.77km from city centre', '- 1.67km from city centre', '- 3.24km from city centre']\n"
     ]
    }
   ],
   "source": [
    "distance=[]\n",
    "d = hostel.find_elements(By.CLASS_NAME, 'distance-description')\n",
    "for i in d:\n",
    "        if i.text is None :\n",
    "            distance.append(\"--\") \n",
    "        else:\n",
    "            distance.append(i.text)\n",
    "print(distance)"
   ]
  },
  {
   "cell_type": "code",
   "execution_count": 217,
   "id": "eb255943",
   "metadata": {},
   "outputs": [
    {
     "name": "stdout",
     "output_type": "stream",
     "text": [
      "['9.6', '9.6', '9.5', '9.2', '9.1', '9.0', '9.0', '9.0', '9.0', '8.9', '8.8', '8.7', '8.7', '8.6', '8.6', '8.6', '8.4', '8.3', '8.2', '8.2', '8.2', '8.2', '8.1', '8.1', '8.1', '8.0', '8.0', '7.9', '7.9', '7.9']\n"
     ]
    }
   ],
   "source": [
    "rating=[]\n",
    "d = hostel.find_elements(By.CLASS_NAME, 'number')\n",
    "for i in d:\n",
    "        if i.text is None :\n",
    "            rating.append(\"--\") \n",
    "        else:\n",
    "            rating.append(i.text)\n",
    "print(rating)"
   ]
  },
  {
   "cell_type": "code",
   "execution_count": 218,
   "id": "c2f5dc1c",
   "metadata": {},
   "outputs": [
    {
     "name": "stdout",
     "output_type": "stream",
     "text": [
      "['(12754)', '(15890)', '(15691)', '(2478)', '(44)', '(1076)', '(294)', '(930)', '(15691)', '(4696)', '(2108)', '(2035)', '(1485)', '(98)', '(15890)', '(1091)', '(538)', '(6578)', '(2081)', '(63)', '(9429)', '(2956)', '(222)', '(12277)', '(857)', '(789)', '(4553)', '(3127)', '(12754)', '(4276)', '(798)', '(2419)', '(478)', '(12911 Reviews)']\n"
     ]
    }
   ],
   "source": [
    "total_reviews=[]\n",
    "d = hostel.find_elements(By.XPATH, '//div[@class=\"review\"]/span')\n",
    "for i in d:\n",
    "        if i.text is None :\n",
    "            total_reviews.append(\"--\") \n",
    "        else:\n",
    "            total_reviews.append(i.text)\n",
    "print(total_reviews)"
   ]
  },
  {
   "cell_type": "code",
   "execution_count": 219,
   "id": "db801cff",
   "metadata": {},
   "outputs": [
    {
     "name": "stdout",
     "output_type": "stream",
     "text": [
      "['Superb', 'Superb', 'Superb', 'Superb', 'Superb', 'Superb', 'Fabulous', 'Fabulous', 'Fabulous', 'Fabulous', 'Fabulous', 'Fabulous', 'Fabulous', 'Fabulous', 'Fabulous', 'Fabulous', 'Fabulous', 'Fabulous', 'Fabulous', 'Fabulous', 'Fabulous', 'Fabulous', 'Fabulous', 'Fabulous', 'Fabulous', 'Fabulous', 'Fabulous', 'Very Good', 'Very Good', 'Very Good']\n"
     ]
    }
   ],
   "source": [
    "overall_reviews=[]\n",
    "d = hostel.find_elements(By.CLASS_NAME, 'keyword')\n",
    "for i in d:\n",
    "        if i.text is None :\n",
    "            overall_reviews.append(\"--\") \n",
    "        else:\n",
    "            overall_reviews.append(i.text)\n",
    "print(overall_reviews)"
   ]
  },
  {
   "cell_type": "code",
   "execution_count": 220,
   "id": "c45b5685",
   "metadata": {},
   "outputs": [
    {
     "name": "stdout",
     "output_type": "stream",
     "text": [
      "['Rs5483.86', 'Rs2729.25', 'Rs3063.02', 'Rs2205.37', 'Rs5390.91', 'Rs2450.41', 'Rs3168.64', 'Rs3696.75', 'Rs4078.04', 'Rs2595.12', 'Rs3274.26', 'Rs3274.26', 'Rs2376.48', 'Rs3168.64', 'Rs1584.32', 'Rs3168.64', 'Rs4251.26', 'Rs2534.91', 'Rs1936.04', 'Rs2640.53', 'Rs2746.15', 'Rs3770.68', 'Rs3168.64', 'Rs5228.26', 'Rs1232.60', 'Rs2323.67', 'Rs3247.86', 'Rs1795.56', 'Rs1436.45', 'Rs1520.95', 'Rs4689.59', 'Rs4436.10', 'Rs5967.60', 'Rs1901.18', 'Rs4858.58', 'Rs2429.29', 'Rs2429.29', 'Rs2429.29', 'Rs4224.85', 'Rs1901.18', 'Rs3995.65', 'Rs3063.02', 'Rs2112.43', 'Rs3168.64', 'Rs1373.08', 'Rs1421.66', 'Rs1267.46', 'Rs3094.70', 'Rs1792.39', 'Rs4752.96', 'Rs2218.05', 'Rs4385.40', 'Rs2308.88', 'Rs2218.05', 'Rs211.24', 'Rs1161.83']\n"
     ]
    }
   ],
   "source": [
    "privates_price=[]\n",
    "d = hostel.find_elements(By.CLASS_NAME, 'current')\n",
    "for i in d:\n",
    "        if i.text is None :\n",
    "            privates_price.append(\"--\") \n",
    "        else:\n",
    "            privates_price.append(i.text)\n",
    "print(privates_price)"
   ]
  },
  {
   "cell_type": "code",
   "execution_count": 221,
   "id": "ee6ece6e",
   "metadata": {},
   "outputs": [
    {
     "name": "stdout",
     "output_type": "stream",
     "text": [
      "['The perfect place for solo travelers to connect, explore and party! Join the Onefam Family and let us show you the beautiful city of London! What really makes our hostel unique and what has helped us win HostelWorld awards year after year, are our amazing...', 'Welcome to Onefam Waterloo', 'Urbany Hostel London offers a perfect spot to explore the city in a typical Victorian terraced house in Notting Hill. Guests can enjoy free Wi-Fi, luggage storage, towel rental, basic laundry service and CCTV for security.', 'Destinations Hostels @ The Gallery is 10min walk from the Tate Britain museum. 15 mins walk from Big Ben, Westminster Abbey, the London Eye and Buckingham palace and 20mins from Trafalgar square.', 'Park Villa offers luxurious accommodation with customised bunk bed pods, grand plantation shutters and oak wood floors. It also features a secure environment with electronic entry systems, cameras and reception.', \"Our Wombat's City Hostel is located in the London Borough of Tower Hamlets, right next to the famous Tower Bridge and Tower of London, charming markets, authentic pubs and many other places of historical interest.\", 'YHA Oxford Street offers a quiet escape from the city and various rooms with shared facilities. Free Wi-Fi in communal areas and a £5.95 breakfast price are available.', \"YHA London St Pauls offers a unique experience with its location opposite St. Paul's Cathedral and close to many of London's top attractions. It also has a range of activities like free walking tours, pub crawls, group trips to West End shows, and more.\", 'The Badger features 2 dogs, complimentary breakfast, 120 megabyte WiFi, USB ports in all rooms, personal lockers with laptop safety, tea and coffee all day, bbq and garden access, luggage storage', \"YHA London Earl's Court offers a convenient base for exploring London with easy access to Heathrow and Gatwick, as well as nearby attractions like the Royal Albert Hall, Natural History Museum\", 'Near the Hostelle you will find the London Wall at 2.8 km, the Tower Bridge at 3.3 km, the London Eye at 5.7 km, the Trafalgar Square at 5.7 km, the Sra Life Centre London Aquarium at 5.9 km, and the Sky Garden at 2.8 km, among other attractions.', 'Whether you?re a Backpacker or a Budget traveller with excellent taste, you will enjoy Palmers Lodges Swiss Cottage, the grand charm of this historic building', 'International Students House provides affordable accommodation in Central London, with a variety of room types and a vibrant student centre with free amenities.', 'High standard of living for the budget traveller. All our rooms have excellent en-suite facilities. We are suitable for all, groups, individuals or a families.', 'Located a short walk from Notting Hill, Hyde Park and Kensington Palace (home of William, Kate, and the Royal Babies!) it is easy to see why so many people fall in love with this neighbourhood.', 'NX London Hostel offers a variety of rooms, including small dorms and private rooms. It features free Wi-Fi, complimentary breakfast, lockers, and ear plugs. It also has a pub next door with live music and sports events.', 'Selina Camden offers a great guest experience with a 24-hour front desk, flexible cancellations, a no-shows policy, and payment upon arrival. It also features a communal kitchen, a loft with a balcony, and a vegan eatery.', \"This hostel's great location near the British Museum, 24-hour reception, CCTV, storage lockers, free WiFi, dining room, common area, lounge with sofas, free city maps, and discounts\", \"We're a four-star hostel at the heart of the bus and underground networks making it easy to travel around the city.\", 'Food & culture lovers, assemble! The Rose & Crown is the perfect base to wander the incredible streets of London?s effortlessly cool Southbank.', \"Located in the most beautiful and charming neighbourhood in London, Astor Hyde Park is one minute from Hyde Park and surrounded by some of London's greatest museums\", 'The hostel is housed in a historic building in beautiful Angel (borough of Islington). Our goal is to', 'The property offers a range of amenities, including a traditional English pub, double and twin rooms, shared rooms, free WIFI, a kitchen, bathrooms with hot water, and a nearby supermarket. It also allows check-in from 9:00 to 24:00.', 'IMPORTANT NOTICE: ALL BOOKINGS THAT FALL BETWEEN 28TH DEC 2022 - 2ND JAN 2023 WILL BE CHARGED IN ADVA', 'Located in the middle of Camden Town, we’re the closest hostel to Camden Markets and if you’re angling for access to all the partying and good times you could want, without compromising on security, comfort, and cleanliness, then we’re where you want to be!...', \"St Christopher's Inn at The Village in London Bridge offers Japanese-style capsule beds and private rooms with views of the Shard, as well as a continental breakfast, a bar and easy access to two tube stations.\", \"The Walrus Hostel offers a convenient location near many of London's famous landmarks, a fully equipped guest kitchen, a traditional English pub, and a safe environment for those under 18s when accompanied by a guardian.\", 'The Oasis offers a tranquil and comfortable stay for female travelers, with amenities like cosy pillows, hair-dryers, towels, bed linen and mirrors. Guests can enjoy a continental breakfast and the convenience of being a 2 minute walk from two tube stations.', \"Whether you're staying for a night or you're setting up a new life in London, the Dover Castle Hostel has it all!\", 'Clink261 is a great choice for travelers seeking comfort and convenience, offering free Wi-Fi, British-themed interiors, 24/7 reception, and discounted tickets on tours and attractions.']\n"
     ]
    }
   ],
   "source": [
    "description=[]\n",
    "d = hostel.find_elements(By.XPATH,'//div[@class=\"property-description\"]/span')\n",
    "for i in d:\n",
    "        if i.text is None :\n",
    "            description.append(\"--\") \n",
    "        else:\n",
    "            description.append(i.text)\n",
    "print(description)"
   ]
  },
  {
   "cell_type": "code",
   "execution_count": null,
   "id": "908c51fc",
   "metadata": {},
   "outputs": [],
   "source": [
    "#THANKS"
   ]
  }
 ],
 "metadata": {
  "kernelspec": {
   "display_name": "Python 3 (ipykernel)",
   "language": "python",
   "name": "python3"
  },
  "language_info": {
   "codemirror_mode": {
    "name": "ipython",
    "version": 3
   },
   "file_extension": ".py",
   "mimetype": "text/x-python",
   "name": "python",
   "nbconvert_exporter": "python",
   "pygments_lexer": "ipython3",
   "version": "3.9.13"
  }
 },
 "nbformat": 4,
 "nbformat_minor": 5
}
